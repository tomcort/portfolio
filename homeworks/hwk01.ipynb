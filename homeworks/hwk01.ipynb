{
 "cells": [
  {
   "cell_type": "markdown",
   "metadata": {},
   "source": [
    "# MAT281 - Tarea 1"
   ]
  },
  {
   "cell_type": "markdown",
   "metadata": {},
   "source": [
    "## SVD y Gatitos \n",
    "\n",
    "En este ejercicio utilizaremos la descomposición valor singular con tal de comprimir imágenes, si bien hay algoritmos mucho mejores para esto, será un ejercicio muy ilustrativo. "
   ]
  },
  {
   "cell_type": "markdown",
   "metadata": {},
   "source": [
    "### Recuerdo"
   ]
  },
  {
   "cell_type": "markdown",
   "metadata": {},
   "source": [
    "La descomposición SVD de una matriz $A$ de tamaño $m \\times n$ posee la siguiente forma \n",
    "$$\n",
    "A = U \\Sigma V^H\n",
    "$$\n",
    "donde $\\Sigma$ es diagonal $m \\times n$, mientras que $U$ y $V$ son matrices unitarias $m \\times m$ and $n \\times n$, respectivamente. Los elementos diagonales de $\\Sigma$ son no-negativos y aquellos valores positivos son llamados **valores singulares** de $A$. Como convención los valores singulares se listan en orden decreciente a lo largo de la diagonal. Las columnas de $U$ y $V$ son llamadas **vectores singulares** izquierdos y derechos respectivamente.\n",
    "\n",
    "PD: Recuerda que $A^H = \\overline{A}^\\top$, es decir, la matriz traspuesta de la matriz conjugada."
   ]
  },
  {
   "cell_type": "code",
   "execution_count": 16,
   "metadata": {},
   "outputs": [],
   "source": [
    "import numpy as np\n",
    "from scipy.linalg import svd\n",
    "\n",
    "np.random.seed(42)  # Para reproducibilidad de resultados"
   ]
  },
  {
   "cell_type": "markdown",
   "metadata": {},
   "source": [
    "Por ejemplo para una matriz de $2 \\times 2$:"
   ]
  },
  {
   "cell_type": "code",
   "execution_count": 17,
   "metadata": {},
   "outputs": [],
   "source": [
    "A = np.array([[0.1, 0.5], [0.4, 0.8]])\n",
    "u, s, vh = svd(A)"
   ]
  },
  {
   "cell_type": "markdown",
   "metadata": {},
   "source": [
    "#### Ejercicio 1\n",
    "\n",
    "(5 puntos)\n",
    "\n",
    "Define la función `svd_validaton` tal que:\n",
    "\n",
    "1. El _input_ sea un arreglo bidimensional `A` de tamaño $m \\times n$.\n",
    "2. Obtenga la descomposición valor singular de `A`.\n",
    "3. Retorne `True` o `False` si es que se cumple la igualdad \n",
    "$$\n",
    "A = \\sum_{l=1}^{\\min(m, n)} \\sigma_l \\; u_l v_l^H,\n",
    "$$\n",
    "donde $\\sigma_l$ corresponden a los valores singulares de $A$, mientras que $u_i$ y $v_j$ a las columnas de $U$ y $V$ respectivamente. Hint: Utiliza `np.allclose` con la tolerancia por defecto."
   ]
  },
  {
   "cell_type": "code",
   "execution_count": 18,
   "metadata": {},
   "outputs": [],
   "source": [
    "def svd_validation(A):\n",
    "    \n",
    "    #Se realiza la descomposición svd\n",
    "    u, s, vh = svd(A)\n",
    "    \n",
    "    #Se guarda la dimensión de la matriz y se toma el mínimo\n",
    "    row, col =A.shape\n",
    "    minrc = min(row,col) \n",
    "    \n",
    "    #Se reconstruye la descomposición SVD\n",
    "    Asvd = 0\n",
    "    for i in range(minrc):\n",
    "        Asvd += s[i]*u[:,i:i+1]*vh[i:i+1,:]\n",
    "    \n",
    "    return np.allclose(A,Asvd)"
   ]
  },
  {
   "cell_type": "code",
   "execution_count": 19,
   "metadata": {},
   "outputs": [
    {
     "data": {
      "text/plain": [
       "True"
      ]
     },
     "execution_count": 19,
     "metadata": {},
     "output_type": "execute_result"
    }
   ],
   "source": [
    "A_test = np.random.randint(100, size=(20, 5))\n",
    "svd_validation(A_test)"
   ]
  },
  {
   "cell_type": "markdown",
   "metadata": {},
   "source": [
    "### Geometría"
   ]
  },
  {
   "cell_type": "markdown",
   "metadata": {},
   "source": [
    "Considerar una matriz `A` como un operador lineal tiene una interpretación geométrica muy sencilla, transforma una (hyper)-esfera en una (hyper)-elipse. Por ejemplo, consideremos una esfera unitaria en $\\mathbb{R}^2$."
   ]
  },
  {
   "cell_type": "code",
   "execution_count": 20,
   "metadata": {},
   "outputs": [],
   "source": [
    "import matplotlib.pyplot as plt\n",
    "%matplotlib inline"
   ]
  },
  {
   "cell_type": "code",
   "execution_count": 21,
   "metadata": {},
   "outputs": [],
   "source": [
    "def show_circle(circle):\n",
    "    plt.plot(circle[0, :], circle[1, :])\n",
    "    plt.axis('image');"
   ]
  },
  {
   "cell_type": "code",
   "execution_count": 22,
   "metadata": {},
   "outputs": [
    {
     "data": {
      "image/png": "[encoded data removed]",
      "text/plain": [
       "<Figure size 432x288 with 1 Axes>"
      ]
     },
     "metadata": {
      "needs_background": "light"
     },
     "output_type": "display_data"
    }
   ],
   "source": [
    "t = np.linspace(0, 3.5 * np.pi , num=300)\n",
    "l = np.linspace(-1, 1, num=10)\n",
    "z = np.zeros_like(l)\n",
    "circle = np.array(\n",
    "    [\n",
    "        np.concatenate([l, np.cos(t), z]),\n",
    "        np.concatenate([z, np.sin(t), l])\n",
    "    ]\n",
    ")\n",
    "\n",
    "show_circle(circle) "
   ]
  },
  {
   "cell_type": "markdown",
   "metadata": {},
   "source": [
    "Luego, al utilizar `A` como un operador lineal, es decir $A C$."
   ]
  },
  {
   "cell_type": "code",
   "execution_count": 23,
   "metadata": {},
   "outputs": [
    {
     "name": "stdout",
     "output_type": "stream",
     "text": [
      "[[0.1 0.5]\n",
      " [0.4 0.8]]\n"
     ]
    }
   ],
   "source": [
    "print(A)"
   ]
  },
  {
   "cell_type": "code",
   "execution_count": 24,
   "metadata": {},
   "outputs": [
    {
     "data": {
      "image/png": "[encoded data removed]",
      "text/plain": [
       "<Figure size 432x288 with 1 Axes>"
      ]
     },
     "metadata": {
      "needs_background": "light"
     },
     "output_type": "display_data"
    }
   ],
   "source": [
    "show_circle(A @ circle)"
   ]
  },
  {
   "cell_type": "markdown",
   "metadata": {},
   "source": [
    "#### Ejercicio 2\n",
    "\n",
    "(5 puntos)\n",
    "\n",
    "* Obtén la descomposición SVD de $A$, tal que $A = U \\Sigma V^H$.\n",
    "* Grafica el resultado de aplicar los siguientes operadores lineales a la circunferencia unitaria:\n",
    "    - $U$\n",
    "    - $\\Sigma$\n",
    "    - $V^H$\n",
    "* Explica con tus palabras la transformación de la circunferencia unitaria luego de aplicar los operadores anteriores, ¿Influye en algo que $U$ y $V$ sean unitarias?\n",
    "* ¿Qué relación tienen los operadores anteriores respecto a aplicar el operador lineal $A$?"
   ]
  },
  {
   "cell_type": "code",
   "execution_count": 25,
   "metadata": {},
   "outputs": [],
   "source": [
    "u, s, vh = svd(A)"
   ]
  },
  {
   "cell_type": "code",
   "execution_count": 26,
   "metadata": {},
   "outputs": [
    {
     "data": {
      "image/png": "[encoded data removed]",
      "text/plain": [
       "<Figure size 432x288 with 1 Axes>"
      ]
     },
     "metadata": {
      "needs_background": "light"
     },
     "output_type": "display_data"
    }
   ],
   "source": [
    "show_circle(u @ circle)"
   ]
  },
  {
   "cell_type": "code",
   "execution_count": 27,
   "metadata": {},
   "outputs": [
    {
     "data": {
      "image/png": "[encoded data removed]",
      "text/plain": [
       "<Figure size 432x288 with 1 Axes>"
      ]
     },
     "metadata": {
      "needs_background": "light"
     },
     "output_type": "display_data"
    }
   ],
   "source": [
    "show_circle(np.diag(s) @ circle)"
   ]
  },
  {
   "cell_type": "code",
   "execution_count": 28,
   "metadata": {},
   "outputs": [
    {
     "data": {
      "image/png": "[encoded data removed]",
      "text/plain": [
       "<Figure size 432x288 with 1 Axes>"
      ]
     },
     "metadata": {
      "needs_background": "light"
     },
     "output_type": "display_data"
    }
   ],
   "source": [
    "show_circle(vh @ circle)"
   ]
  },
  {
   "cell_type": "markdown",
   "metadata": {},
   "source": [
    "__Respuesta:__ Son rotaciones de la circunferencia unitaria. Si influye, pues en caso contrario existiría contracción o dilatación de los ejes como en el caso 2"
   ]
  },
  {
   "cell_type": "markdown",
   "metadata": {},
   "source": [
    "__Respuesta:__ Es una descomposición de las trasformaciones que se le realizan a la circunferencia unitaria"
   ]
  },
  {
   "cell_type": "markdown",
   "metadata": {},
   "source": [
    "### Aproximación Rango Menor"
   ]
  },
  {
   "cell_type": "markdown",
   "metadata": {},
   "source": [
    "Existen muchas maneras de expresar una matriz como una suma de matrices de menor rango, por ejemplo:\n",
    "\n",
    "$$\n",
    "\\begin{bmatrix}\n",
    "a & b \\\\\n",
    "c & d \n",
    "\\end{bmatrix}\n",
    "= \n",
    "\\begin{bmatrix}\n",
    "a & 0 \\\\ 0 & 0  \n",
    "\\end{bmatrix}\n",
    "+ \n",
    "\\begin{bmatrix}\n",
    "0 & b \\\\ 0 & 0 \n",
    "\\end{bmatrix}\n",
    "+ \n",
    "\\begin{bmatrix}\n",
    "0 & 0 \\\\ c & 0 \n",
    "\\end{bmatrix}\n",
    "+\n",
    "\\begin{bmatrix}\n",
    "0 & 0 \\\\ 0 & d \n",
    "\\end{bmatrix}.\n",
    "$$\n",
    "\n",
    "Cada una de las matrices del lado derecho pueden tener rango a lo más 1."
   ]
  },
  {
   "cell_type": "markdown",
   "metadata": {},
   "source": [
    "En el primer ejercicio demostraste que la descomposición SVD $A$ puede ser expresada como una suma de matrices. Sin embargo, cada una de estas matrices tiene rango 1! Esto pues cada una de estas matrices se forma a partir de los productos externos entre los vectores $u_l$ y $v_l$, es decir $u_l v_l^H$.\n",
    "\n",
    "La pregunta natural es:\n",
    "\n",
    "_¿Cómo obtener una buena aproximación de $A$ utilizando matrices de rango muy bajo?_\n",
    "\n",
    "Bueno, aquí va un teorema."
   ]
  },
  {
   "cell_type": "markdown",
   "metadata": {},
   "source": [
    "__Teorema 1:__\n",
    "\n",
    "\n",
    "\n",
    "Sea $A$ matriz de tamaño $m \\times n$. Para cualquier $0 \\le \\ell \\le r = \\text{rank}(A)$, se define la matriz \n",
    "$$\n",
    "A_\\ell = \\sum_{j=1}^{\\ell} \\sigma_j u_j v_j^*,\n",
    "$$\n",
    "utilizando los valores singulares $\\sigma_j$ y los vectores singulares (izquierdos y derechos) $u_j, v_j$ de $A$,  i.e., $A_\\ell$ se compone de la suma de los primeros $\\ell$ términos de la descomposición SVD escrita como una suma de productor externos. Luego, el mínimo de  $\\| A - B \\|_F$ sobre todas las matrices $B$ de tamaño $m \\times n$ y rango no mayor a $\\ell$ se obtiene por $\\| A - A_\\ell \\|_F$ y el mínimo que se alcanza es  $(\\sigma_{\\ell+1}^2 + \\cdots + \\sigma_r^2)^{1/2}$.\n",
    "\n",
    "Recuerda que la norma de Frobenius se define como\n",
    "\n",
    "$$\n",
    "\\| A \\|_F = \\bigg( \\sum_{i, j} |A_{ij}|^2 \\bigg)^{1/2}.\n",
    "$$"
   ]
  },
  {
   "cell_type": "markdown",
   "metadata": {},
   "source": [
    "Motivaremos el ejercicio utilizando imágenes en escala de grises ya que es muy intuitivo, fácil de ver y se puede considerar que la imagen es una matriz."
   ]
  },
  {
   "cell_type": "code",
   "execution_count": 29,
   "metadata": {},
   "outputs": [],
   "source": [
    "from pathlib import Path\n",
    "from PIL import Image"
   ]
  },
  {
   "cell_type": "code",
   "execution_count": 30,
   "metadata": {},
   "outputs": [
    {
     "ename": "FileNotFoundError",
     "evalue": "[Errno 2] No such file or directory: 'C:\\\\Users\\\\judpi\\\\Desktop\\\\U\\\\Decimo semestre\\\\portfolio\\\\images\\\\coyoya.jpg'",
     "output_type": "error",
     "traceback": [
      "\u001b[1;31m---------------------------------------------------------------------------\u001b[0m",
      "\u001b[1;31mFileNotFoundError\u001b[0m                         Traceback (most recent call last)",
      "\u001b[1;32m<ipython-input-30-5779e2f99727>\u001b[0m in \u001b[0;36m<module>\u001b[1;34m\u001b[0m\n\u001b[0;32m      1\u001b[0m \u001b[1;31m# Utilizaremos una foto de una de mis gatitas c:\u001b[0m\u001b[1;33m\u001b[0m\u001b[1;33m\u001b[0m\u001b[1;33m\u001b[0m\u001b[0m\n\u001b[1;32m----> 2\u001b[1;33m \u001b[0mcat\u001b[0m \u001b[1;33m=\u001b[0m \u001b[0mImage\u001b[0m\u001b[1;33m.\u001b[0m\u001b[0mopen\u001b[0m\u001b[1;33m(\u001b[0m\u001b[0mPath\u001b[0m\u001b[1;33m(\u001b[0m\u001b[1;33m)\u001b[0m\u001b[1;33m.\u001b[0m\u001b[0mresolve\u001b[0m\u001b[1;33m(\u001b[0m\u001b[1;33m)\u001b[0m\u001b[1;33m.\u001b[0m\u001b[0mparent\u001b[0m \u001b[1;33m/\u001b[0m \u001b[1;34m\"images\"\u001b[0m \u001b[1;33m/\u001b[0m \u001b[1;34m\"coyoya.jpg\"\u001b[0m\u001b[1;33m)\u001b[0m\u001b[1;33m.\u001b[0m\u001b[0mconvert\u001b[0m\u001b[1;33m(\u001b[0m\u001b[1;34m'L'\u001b[0m\u001b[1;33m)\u001b[0m\u001b[1;33m\u001b[0m\u001b[1;33m\u001b[0m\u001b[0m\n\u001b[0m\u001b[0;32m      3\u001b[0m \u001b[0mcat\u001b[0m\u001b[1;33m\u001b[0m\u001b[1;33m\u001b[0m\u001b[0m\n",
      "\u001b[1;32m~\\miniconda3\\envs\\mat281\\lib\\site-packages\\PIL\\Image.py\u001b[0m in \u001b[0;36mopen\u001b[1;34m(fp, mode)\u001b[0m\n\u001b[0;32m   2876\u001b[0m \u001b[1;33m\u001b[0m\u001b[0m\n\u001b[0;32m   2877\u001b[0m     \u001b[1;32mif\u001b[0m \u001b[0mfilename\u001b[0m\u001b[1;33m:\u001b[0m\u001b[1;33m\u001b[0m\u001b[1;33m\u001b[0m\u001b[0m\n\u001b[1;32m-> 2878\u001b[1;33m         \u001b[0mfp\u001b[0m \u001b[1;33m=\u001b[0m \u001b[0mbuiltins\u001b[0m\u001b[1;33m.\u001b[0m\u001b[0mopen\u001b[0m\u001b[1;33m(\u001b[0m\u001b[0mfilename\u001b[0m\u001b[1;33m,\u001b[0m \u001b[1;34m\"rb\"\u001b[0m\u001b[1;33m)\u001b[0m\u001b[1;33m\u001b[0m\u001b[1;33m\u001b[0m\u001b[0m\n\u001b[0m\u001b[0;32m   2879\u001b[0m         \u001b[0mexclusive_fp\u001b[0m \u001b[1;33m=\u001b[0m \u001b[1;32mTrue\u001b[0m\u001b[1;33m\u001b[0m\u001b[1;33m\u001b[0m\u001b[0m\n\u001b[0;32m   2880\u001b[0m \u001b[1;33m\u001b[0m\u001b[0m\n",
      "\u001b[1;31mFileNotFoundError\u001b[0m: [Errno 2] No such file or directory: 'C:\\\\Users\\\\judpi\\\\Desktop\\\\U\\\\Decimo semestre\\\\portfolio\\\\images\\\\coyoya.jpg'"
     ]
    }
   ],
   "source": [
    "# Utilizaremos una foto de una de mis gatitas c:\n",
    "cat = Image.open(Path().resolve().parent / \"images\" / \"coyoya.jpg\").convert('L')\n",
    "cat"
   ]
  },
  {
   "cell_type": "markdown",
   "metadata": {},
   "source": [
    "Para convertirla en un numpy array basta con:"
   ]
  },
  {
   "cell_type": "code",
   "execution_count": null,
   "metadata": {},
   "outputs": [],
   "source": [
    "cat_np = np.array(cat)\n",
    "print(cat_np.shape)"
   ]
  },
  {
   "cell_type": "markdown",
   "metadata": {},
   "source": [
    "#### Ejercicio 3\n",
    "\n",
    "(10 puntos)\n",
    "\n",
    "Define la función `low_rank_svd_approximation` tal que:\n",
    "\n",
    "* Los inputs sean $A$ (la imagen convertida un `np.array` de dimensión 2) y un valor entero $\\ell$ que represente la cantidad de términos a sumar de la despomposición SVD (respecto al teorema anterior).\n",
    "* Retorne la aproximación $A_\\ell$\n",
    "* Imprima el error de la aproximación utilizando la norma de Frobenius.\n",
    "\n",
    "Luego prueba tu función y observa la imagen con distintos valores de $\\ell$."
   ]
  },
  {
   "cell_type": "code",
   "execution_count": null,
   "metadata": {},
   "outputs": [],
   "source": [
    "from scipy.linalg import norm\n",
    "def low_rank_svd_approximation(A, l):\n",
    "    \n",
    "    #Se obtiene el tamaño de la matriz y se toma el mínimo\n",
    "    row, col = A.shape\n",
    "    minrc = min(row,col)\n",
    "    \n",
    "    #Se verifica que el parámetro l sea válido\n",
    "    if l > minrc:\n",
    "        print(\"El valor de la segunda entrada es inválido\")\n",
    "        return\n",
    "    \n",
    "    #Se obtiene la descomposición SVD\n",
    "    u, s , vh = svd(A)\n",
    "    \n",
    "    #Se realiza la aproximación y se imprime el error en la norma de Frobenius\n",
    "    Asvd = 0\n",
    "    for i in range(l):\n",
    "        Asvd += s[i]*u[:,i:i+1]*vh[i:i+1,:]\n",
    "    print(norm(A-Asvd,'fro'))\n",
    "    \n",
    "    return Asvd"
   ]
  },
  {
   "cell_type": "code",
   "execution_count": null,
   "metadata": {},
   "outputs": [],
   "source": [
    "cat10 = low_rank_svd_approximation(cat_np, l=10)\n",
    "plt.imshow(cat10, cmap='gray');"
   ]
  },
  {
   "cell_type": "code",
   "execution_count": null,
   "metadata": {},
   "outputs": [],
   "source": [
    "cat50 = low_rank_svd_approximation(cat_np, l=50)\n",
    "plt.imshow(cat50, cmap='gray');"
   ]
  },
  {
   "cell_type": "markdown",
   "metadata": {},
   "source": [
    "#### Ejercicio 4\n",
    "\n",
    "(15 puntos)\n",
    "\n",
    "En el ejercicio anterior fijaste un rango máximo y obtuviste la aproximación, sin embargo, en otro contexto, te gustaría fijar una tolerancia de error y obtener la mejor aproximación.\n",
    "\n",
    "Define la función `low_rank_svd_tol_approximation` tal que:\n",
    "\n",
    "* Los inputs sean $A$ (la imagen convertida un `np.array` de dimensión 2) y $\\varepsilon$ (tolerancia relativa) tal que\n",
    "$$\n",
    "\\left(\\frac{\\sigma_{\\ell+1}^2 + \\cdots + \\sigma_r^2}{\\sigma_1^2 + \\cdots + \\sigma_r^2}\\right)^{1/2} \\le \\varepsilon.\n",
    "$$\n",
    "* Imprima $\\ell(\\varepsilon)$, es decir, el mayor rango aproximado de $A$ tal que el error de aproximación sea a lo más $\\varepsilon$.\n",
    "* Retorne la aproximación $A_{\\ell(\\varepsilon)}$\n",
    "\n",
    "Luego prueba tu función y observa la imagen con distintos valores de $\\varepsilon$."
   ]
  },
  {
   "cell_type": "code",
   "execution_count": null,
   "metadata": {},
   "outputs": [],
   "source": [
    "u, s , vh = svd(A)\n",
    "s[0:2]**2\n",
    "range(1,4+1)"
   ]
  },
  {
   "cell_type": "code",
   "execution_count": null,
   "metadata": {},
   "outputs": [],
   "source": [
    "def low_rank_svd_tol_approximation(A, tol):\n",
    "    \n",
    "    # Se busca r\n",
    "    row, col = A.shape\n",
    "    r = min (row, col)\n",
    "    \n",
    "    # Se obtiene la descompsición SVD\n",
    "    u, s , vh = svd(A)\n",
    "    \n",
    "    # Se busca el mayor rango aproximado\n",
    "    for i in range(1,r+1):\n",
    "        err = (s[i+1:r+1]**2).sum()/(s[0:r+1]**2).sum()\n",
    "        if err <= tol:\n",
    "            l = i\n",
    "            print (\"El mayor rango aproximado de A, con tolerancia \" + str(tol) + \" es \" + str(l) )\n",
    "            break\n",
    "            \n",
    "    # Se obtiene la aproximación de A\n",
    "    Asvd = 0\n",
    "    for i in range(l):\n",
    "        Asvd += s[i]*u[:,i:i+1]*vh[i:i+1,:]\n",
    "    return A"
   ]
  },
  {
   "cell_type": "code",
   "execution_count": null,
   "metadata": {},
   "outputs": [],
   "source": [
    "cat_e1 = low_rank_svd_tol_approximation(cat_np, tol=1.e-1)\n",
    "plt.imshow(cat_e1, cmap='gray');"
   ]
  },
  {
   "cell_type": "code",
   "execution_count": null,
   "metadata": {},
   "outputs": [],
   "source": [
    "cat_e2 = low_rank_svd_tol_approximation(cat_np, tol=1.e-2)\n",
    "plt.imshow(cat_e2, cmap='gray');"
   ]
  },
  {
   "cell_type": "markdown",
   "metadata": {},
   "source": [
    "#### Ejercicio 5\n",
    "\n",
    "(5 puntos)\n",
    "\n",
    "Utilizando alguna imagen de tu preferencia utiliza ambas"
   ]
  },
  {
   "cell_type": "code",
   "execution_count": null,
   "metadata": {},
   "outputs": [],
   "source": [
    "your_img_name = \"im2.jpg\"\n",
    "your_img = Image.open(Path().resolve().parent / \"images\" / your_img_name ).convert('L')\n",
    "your_img\n"
   ]
  },
  {
   "cell_type": "code",
   "execution_count": null,
   "metadata": {},
   "outputs": [],
   "source": [
    "your_img_np = np.array(your_img)"
   ]
  },
  {
   "cell_type": "code",
   "execution_count": null,
   "metadata": {},
   "outputs": [],
   "source": [
    "your_img10 = low_rank_svd_approximation(your_img_np, l=10)\n",
    "plt.imshow(your_img10, cmap='gray');"
   ]
  },
  {
   "cell_type": "code",
   "execution_count": null,
   "metadata": {},
   "outputs": [],
   "source": [
    "your_img50 = low_rank_svd_approximation(your_img_np, l=20)\n",
    "plt.imshow(your_img50, cmap='gray');"
   ]
  },
  {
   "cell_type": "code",
   "execution_count": null,
   "metadata": {},
   "outputs": [],
   "source": [
    "your_img_e1 = low_rank_svd_tol_approximation(your_img_np, tol=1.e-1)\n",
    "plt.imshow(your_img_e1, cmap='gray');"
   ]
  },
  {
   "cell_type": "code",
   "execution_count": null,
   "metadata": {},
   "outputs": [],
   "source": [
    "your_img_e2 = low_rank_svd_tol_approximation(your_img_np, tol=1.e-2)\n",
    "plt.imshow(your_img_e2, cmap='gray');"
   ]
  },
  {
   "cell_type": "markdown",
   "metadata": {},
   "source": [
    "__Pregunta:__ ¿Será una manera útil de comprimir imágenes en el disco duro o crees que existen otras formas más eficientes?\n",
    "\n",
    "__Respuesta:__ NO C XD"
   ]
  },
  {
   "cell_type": "markdown",
   "metadata": {},
   "source": [
    "## COVID-19 en Chile"
   ]
  },
  {
   "cell_type": "markdown",
   "metadata": {},
   "source": [
    "### *¿Cuál es el panorama actual de Chile frente a la pandemia de COVID-19?*"
   ]
  },
  {
   "cell_type": "code",
   "execution_count": null,
   "metadata": {},
   "outputs": [],
   "source": [
    "import pandas as pd\n",
    "from datetime import date"
   ]
  },
  {
   "cell_type": "markdown",
   "metadata": {},
   "source": [
    "#### Ejercicio 6\n",
    "\n",
    "(25 puntos)\n",
    "\n",
    "Se ha hablado mucho últimamente que Magallanes es una región crítica en cuanto a casos confirmados de COVID-19. Este ejercicio busca constatar a través de los datos aquellas aseveraciones con un indicador simple pero que parece ser efectivo que bautizaremos como _tasa promedio de casos nuevos_, definida como el promedio de nuevos casos cada cien mil habitantes para un umbral de tiempo determinado.\n",
    "\n",
    "Utiliza el dataframe `covid_comunas` para obtener el dataframe `covid_tasa_promedio_nuevos` que posee las columnas `region`, `comuna`, `promedio_casos_nuevos`, `poblacion` y `tasa_promedio_casos_nuevos` considerando el umbral de tiempo es entre el 1 y 11 de octubre del año 2020.\n",
    "\n",
    "Para ello considera lo siguiente:\n",
    "\n",
    "* No consideres registros que tengan código de comuna nulo.\n",
    "* Rellena todos los registros de casos totales nulos por cero.\n",
    "* Considera utilizar `melt` u otro método similar para apilar las columnas de fechas particulares en solo dos columnas, `fecha` y `casos_totales`.\n",
    "* Define la columna `casos_nuevos` como la diferencia entre dos registros consecutivos para una misma comuna\n",
    "    - No olvides ordenar por fecha\n",
    "    - El primer registro de cada comuna debe ser nulo.\n",
    "    - Considera utilizar el método `transform`.\n",
    "* Filtra por el umbral de tiempo dado.\n",
    "* Agrupa por región-comuna y luego define la columna `promedio_casos_nuevos` como el promedio de la columna `casos_nuevos`.\n",
    "* En caso que hayas _dropeado_ la columna `poblacion` la puedes volver a agregar utilizando `merge` u otro método apropiado. Se asume que la población no cambia durante el tiempo.\n",
    "* Asigna la columna `tasa_promedio_casos_nuevos` como la cantidad promedio de casos nuevos por cada cien mil habitantes.\n",
    "* Ordena el dataframe resultante por `tasa_promedio_casos_nuevos` de manera descendente.\n",
    "\n",
    "Información del dataset: [aquí](https://github.com/MinCiencia/Datos-COVID19/tree/master/output/producto1)."
   ]
  },
  {
   "cell_type": "code",
   "execution_count": null,
   "metadata": {},
   "outputs": [],
   "source": [
    "covid_comunas = (\n",
    "    pd.read_csv(\"https://raw.githubusercontent.com/MinCiencia/Datos-COVID19/master/output/producto1/Covid-19.csv\")\n",
    "    .rename(columns=lambda x: x.lower().replace(\" \", \"_\"))\n",
    ")\n",
    "covid_comunas.head()"
   ]
  },
  {
   "cell_type": "code",
   "execution_count": null,
   "metadata": {},
   "outputs": [],
   "source": [
    "#esta va\n",
    "start_date = pd.to_datetime(\"2020-10-1\", format='%Y-%m-%d')\n",
    "end_date = pd.to_datetime(\"2020-10-11\", format='%Y-%m-%d')"
   ]
  },
  {
   "cell_type": "code",
   "execution_count": null,
   "metadata": {},
   "outputs": [],
   "source": [
    "covid_tasa_promedio_nuevos = (\n",
    "    \n",
    "    #Se eliminan los registros con codigo de comuna nulo\n",
    "    covid_comunas.loc[lambda x: x[\"codigo_comuna\"].notnull()]\n",
    "    \n",
    "    #Se rellena con 0 las fechas que tienen como entrada 0 en algún registro\n",
    "    .apply(lambda x: x.fillna(0) if x.name[0:4] == \"2020\" else x.values)\n",
    "    \n",
    "    #Se reduce el dataframe y se apila las columnas asociadas a las fechas en las columnas fecha y casos totales\n",
    "    .melt( \n",
    "        id_vars=[\"region\", \"comuna\", \"poblacion\"], \n",
    "        value_vars=covid_comunas.columns[5:66],\n",
    "        var_name='fecha', \n",
    "        value_name='casos_totales')\n",
    "    \n",
    "    #Se transforman las fechas en string y se ordenan\n",
    "    .astype({\"fecha\" : \"datetime64[ns]\"})\n",
    "    .sort_values(\"fecha\")\n",
    "    \n",
    "    #Se agrega la columna casos_nuevos con la información que la variable indica\n",
    "    .assign(\n",
    "        casos_nuevos= lambda df: df.groupby(\"comuna\")[\"casos_totales\"].transform(lambda x: x-x.shift())\n",
    "    )\n",
    "    \n",
    "    #Se filtran las fechas\n",
    "    .loc[lambda df: (df[\"fecha\"] >= start_date) & (df[\"fecha\"] <= end_date)] \n",
    "    \n",
    "    #Se define la columna promedio casos nuevos\n",
    "    .assign(\n",
    "        promedio_casos_nuevos= lambda df: df.groupby([\"comuna\",\"region\"])[\"casos_nuevos\"].transform(lambda x: x.mean())\n",
    "    )\n",
    "    \n",
    "    # Se define la columna promedio casos nuevos\n",
    "    .assign(\n",
    "        tasa_casos_nuevos= lambda df: df[\"promedio_casos_nuevos\"]/df[\"poblacion\"]*100000\n",
    "    )\n",
    "    \n",
    "    #Se ordenan en orden desendiente de la tasa_casos_nuevos\n",
    "    .sort_values(\"tasa_casos_nuevos\",ascending=False)\n",
    "    \n",
    "    #Se reducen las filas innecesarias y las columnas innecesarias\n",
    "    .drop_duplicates(subset=[\"comuna\"])\n",
    "    .drop(columns=[\"fecha\",\"casos_nuevos\",\"casos_totales\"])\n",
    ")"
   ]
  },
  {
   "cell_type": "code",
   "execution_count": null,
   "metadata": {},
   "outputs": [],
   "source": [
    "covid_tasa_promedio_nuevos"
   ]
  },
  {
   "cell_type": "markdown",
   "metadata": {},
   "source": [
    "__Pregunta:__ ¿Qué puedes observar respecto a las comunas que tienen mayor Tasa Promedio de Casos Nuevos?\n",
    "\n",
    "__Respuesta:__ Son los que menor población tienen"
   ]
  },
  {
   "cell_type": "markdown",
   "metadata": {},
   "source": [
    "#### Ejercicio 7\n",
    "\n",
    "(15 puntos)\n",
    "\n",
    "¿Hay correlación entre la cantidad de exámenes PCR y los casos confirmados en cada comuna?\n",
    "\n",
    "\n",
    "Información del dataset: [aquí](https://github.com/MinCiencia/Datos-COVID19/tree/master/output/producto7)."
   ]
  },
  {
   "cell_type": "code",
   "execution_count": null,
   "metadata": {},
   "outputs": [],
   "source": [
    "covid_pcr = (\n",
    "    pd.read_csv(\"https://raw.githubusercontent.com/MinCiencia/Datos-COVID19/master/output/producto7/PCR.csv\")\n",
    "    .rename(columns=lambda x: x.lower().replace(\" \", \"_\"))\n",
    ")\n",
    "covid_pcr"
   ]
  },
  {
   "cell_type": "markdown",
   "metadata": {},
   "source": [
    "Obtén el dataframe `covid_pcr_melt` utilizando `covid_pcr` tal que:\n",
    "\n",
    "* Tenga las columnas `region`, `fecha` y `nm_pcr`.\n",
    "* `fecha` sea del tipo `datetime64`.\n",
    "* `nm_pcr` sea el número de PCR realizados y rellena los valores nulos por cero."
   ]
  },
  {
   "cell_type": "code",
   "execution_count": null,
   "metadata": {},
   "outputs": [],
   "source": [
    "covid_pcr_melt = (\n",
    "    \n",
    "    #Se definen las columnas fecha y nm_pcr manteniendo la columna región\n",
    "    covid_pcr.melt( \n",
    "        id_vars=[\"region\"], \n",
    "        value_vars=covid_pcr.columns[3:201],\n",
    "        var_name='fecha', \n",
    "        value_name='nm_pcr')\n",
    "    \n",
    "    #Se cambia el tipo de los datos en la columna fecha\n",
    "    .astype({\"fecha\" : \"datetime64[ns]\"})\n",
    "    \n",
    "    #Se rellena los valores nulos por cero en nm_pcr\n",
    "    .apply(lambda x: x.fillna(0) if x.name == \"nm_pcr\" else x.values)\n",
    "    \n",
    ")\n",
    "\n",
    "covid_pcr_melt"
   ]
  },
  {
   "cell_type": "markdown",
   "metadata": {},
   "source": [
    "Obtén el dataframe `covid_casos_melt` utilizando `covid_casos` tal que:\n",
    "\n",
    "* Tenga las columnas `region`, `fecha` y `casos_totales`.\n",
    "* Rellena los valores nulos con cero.\n",
    "* `fecha` sea del tipo `datetime64`.\n",
    "* `casos_totales` sea la cantidad de casos totales por región y fecha."
   ]
  },
  {
   "cell_type": "code",
   "execution_count": null,
   "metadata": {},
   "outputs": [],
   "source": [
    "covid_casos_melt = (\n",
    "    \n",
    "    #Se crean las columnas fecha y casos_totales mantiendo la columna region\n",
    "    covid_comunas.melt(id_vars=[\"region\"], \n",
    "        value_vars=covid_comunas.columns[5:66],\n",
    "        var_name='fecha', \n",
    "        value_name='casos_totales')\n",
    "    \n",
    "    #Se rellenan los valores nulos con 0 en la columna_casos _totales\n",
    "    .apply(lambda x: x.fillna(0) if x.name == \"casos_totales\" else x.values)\n",
    "    \n",
    "    #Se redefine la columna columna casos_totales como los casos totales dada una fecha y región\n",
    "    .assign(\n",
    "        casos_totales= lambda df: df.groupby([\"region\",\"fecha\"])[\"casos_totales\"].transform(lambda x: x.sum())\n",
    "    )\n",
    "    \n",
    "    #Se cambia el tipo de los datos de la columna fecha\n",
    "    .astype({\"fecha\" : \"datetime64[ns]\"})\n",
    "    \n",
    "    #Se elimina la información sobrante \n",
    "    .drop_duplicates(subset=[\"region\",\"fecha\"])\n",
    ")\n",
    "\n",
    "covid_casos_melt"
   ]
  },
  {
   "cell_type": "markdown",
   "metadata": {},
   "source": [
    "Finalmente, obtén la serie `covid_corr_casos_pcr` de la siguiente manera:\n",
    "\n",
    "* Une `covid_pcr_melt` y `covid_casos_melt` a través de _merge_, utilizando la región y la fecha como llave, además conserva todos los registros (tanto derecha como izquierda).\n",
    "* Rellena los números de PCR con el valor cero.\n",
    "* Haz un `ffill` a los casos totales.\n",
    "* Agrupa por región y obtén la correlación entre `nm_pcr` y `casos_totales`.\n",
    "* Ordena los valores ascendentemente."
   ]
  },
  {
   "cell_type": "code",
   "execution_count": null,
   "metadata": {},
   "outputs": [],
   "source": [
    "covid_corr_casos_pcr = (\n",
    "    \n",
    "    #Se unen los registros\n",
    "    covid_pcr_melt.merge(covid_casos_melt, how=\"outer\", on=[\"region\", \"fecha\"])\n",
    "    \n",
    "    #Se cambian los valores N.A. de la columna nm_pcr por 0\n",
    "    .apply(lambda x: x.fillna(0) if x.name == \"nm_pcr\" else x.values)\n",
    "    \n",
    "    #Se aplica ffill a la columna casos_totales \n",
    "    .apply(lambda x: x.ffill() if x.name == \"casos_totales\" else x.values)\n",
    "    \n",
    "    #Se calculan las matrices de correlación por región\n",
    "    .groupby(\"region\")[[\"nm_pcr\",\"casos_totales\"]].apply(lambda grp: grp.corr())\n",
    "    \n",
    "    #Se elimina la información sobrante\n",
    "    .loc[(slice(None),\"nm_pcr\"),\"casos_totales\"]\n",
    "    .reset_index(level=1, drop=True)\n",
    "    \n",
    "    #Se ordena de manera ascendente\n",
    "    .sort_values()\n",
    ")\n",
    "\n",
    "covid_corr_casos_pcr"
   ]
  },
  {
   "cell_type": "markdown",
   "metadata": {},
   "source": [
    "__Pregunta:__ ¿Qué puedes inferir del análisis anterior? ¿Se condice con tu sentido común?\n",
    "\n",
    "__Respuesta:__"
   ]
  },
  {
   "cell_type": "markdown",
   "metadata": {},
   "source": [
    "#### Ejercicio 8\n",
    "\n",
    "(10 puntos)\n",
    "\n",
    "Propón y responde una pregunta que puedas resolver analizando dos o más conjuntos de datos del repositorio oficial de datos COVID-19 del Ministerio de Ciencia, Tecnología e Innovación de Chile ([link](https://github.com/MinCiencia/Datos-COVID19)).\n",
    "\n",
    "Se evaluará originalidad, análisis de datos, calidad de la pregunta y respuesta."
   ]
  },
  {
   "cell_type": "markdown",
   "metadata": {},
   "source": [
    "__Pregunta:__ Para cada comuna de la región metropolitana, comparar la curva de contagios confirmados con la curva de transacciones en el sistema bip. Considerando que es usual que los síntomas se manifiesten a los 6 o 7 días ¿Es coherente al contrastarlo con la información obtenida? "
   ]
  },
  {
   "cell_type": "markdown",
   "metadata": {},
   "source": [
    "__Respuesta:__"
   ]
  },
  {
   "cell_type": "markdown",
   "metadata": {},
   "source": [
    "Primero importaremos la información que necesitamos"
   ]
  },
  {
   "cell_type": "code",
   "execution_count": null,
   "metadata": {},
   "outputs": [],
   "source": [
    "trans_bip = (\n",
    "    pd.read_csv(\"https://raw.githubusercontent.com/MinCiencia/Datos-COVID19/master/output/producto41/BIPComuna_std.csv\")\n",
    "    .rename(columns=lambda x: x.lower().replace(\" \", \"_\"))\n",
    ")\n",
    "\n",
    "covid_comunas = (\n",
    "    pd.read_csv(\"https://raw.githubusercontent.com/MinCiencia/Datos-COVID19/master/output/producto1/Covid-19.csv\")\n",
    "    .rename(columns=lambda x: x.lower().replace(\" \", \"_\"))\n",
    ")\n",
    "\n",
    "display(covid_comunas.head(),\n",
    "        trans_bip.head())"
   ]
  },
  {
   "cell_type": "markdown",
   "metadata": {},
   "source": [
    "Para evitar problemas al cruzar los datos, estos los agruparemos por semanas utilizando las semanas epidemológicas definidas por el MINSAL disponibles en su repositorio GitHub."
   ]
  },
  {
   "cell_type": "code",
   "execution_count": null,
   "metadata": {},
   "outputs": [],
   "source": [
    "sem_epi = (\n",
    "    pd.read_csv(\"https://raw.githubusercontent.com/MinCiencia/Datos-COVID19/master/input/InformeEpidemiologico/SemanasEpidemiologicas.csv\")\n",
    "    .rename(columns=lambda x: x.lower().replace(\" \", \"_\"))\n",
    "    .T\n",
    "    .iloc[1:]\n",
    "    .rename(columns={0: \"Inicio\", 1:\"Final\"})\n",
    "    .astype({\"Inicio\" : \"datetime64[ns]\", \"Final\" : \"datetime64[ns]\" })\n",
    ")\n",
    "\n",
    "sem_epi.head()"
   ]
  },
  {
   "cell_type": "markdown",
   "metadata": {},
   "source": [
    "Primero trabajaremos unicamente con el data frame covid_comunas, a este le aplicaremos los siguiente\n",
    "1. Eliminaremos los valores con registro de comuna nulo y los valores fuera de la región metropolitana\n",
    "2. Llenaremos los registros de valores nulos con cero para los casos por fechas\n",
    "3. Eliminaremos los registros fuera de la región metropolitana\n",
    "4. Aplicaremos la función melt para reducir las columnas de las fechas a 2 columnas, fechas y casos_totales\n",
    "5. Cambiaremos el tipo de la fecha a datatime64 \n",
    "6. Agruparemos por comuna para reorganizar la información a periodos semanales\n",
    "\n",
    "Previo a esto definiremos una función que nos será de utilidad para el último paso"
   ]
  },
  {
   "cell_type": "code",
   "execution_count": null,
   "metadata": {},
   "outputs": [],
   "source": [
    "#La función nos permitirá identificar a que semana epidemológica corresponde cada dato\n",
    "def id_semana(x,sem_epi = sem_epi):\n",
    "    for semana in sem_epi.T:\n",
    "        if sem_epi[\"Inicio\"][semana] <= x <= sem_epi[\"Final\"][semana]:# >= x[indx]:\n",
    "            return int(semana[2:])\n",
    "    return None"
   ]
  },
  {
   "cell_type": "code",
   "execution_count": null,
   "metadata": {},
   "outputs": [],
   "source": [
    "covid_stgo = (\n",
    "\n",
    "    #Se eliminan los registros con codigo de comuna nulo\n",
    "    covid_comunas.loc[lambda x: (x[\"codigo_comuna\"].notnull()) & (x[\"region\"]== \"Metropolitana\")]\n",
    "    \n",
    "    #Se rellena con 0 las fechas que tienen como entrada 0 en algún registro\n",
    "    .apply(lambda x: x.fillna(0) if x.name[0:4] == \"2020\" else x.values)\n",
    "    \n",
    "    #Se reduce el dataframe y se apila las columnas asociadas a las fechas en las columnas fecha y casos totales\n",
    "    .melt( \n",
    "        id_vars=[\"comuna\", \"poblacion\"], \n",
    "        value_vars=covid_comunas.columns[5:66],\n",
    "        var_name='fecha', \n",
    "        value_name='casos_totales')\n",
    "    \n",
    "    #Se transforman las fechas en string y se ordenan\n",
    "    .astype({\"fecha\" : \"datetime64[ns]\"})\n",
    "    .sort_values(\"fecha\")\n",
    "    \n",
    "    #Se cambia el formato de la columna fecha\n",
    "    .astype({\"fecha\" : \"datetime64[ns]\"})\n",
    "    \n",
    "    #Se agrega la columna casos_nuevos con la información que la variable indica\n",
    "    .assign(\n",
    "        casos_nuevos= lambda df: df.groupby(\"comuna\")[\"casos_totales\"].transform(lambda x: x-x.shift())\n",
    "    )\n",
    "    \n",
    "    #Se define la columnas semana_epi y se agrupa la información casos_totales y casos_nuevos en torno a esta y comunas \n",
    "    .assign(\n",
    "        semana_epi = lambda df: df[\"fecha\"].apply(lambda x: id_semana(x)),\n",
    "        casos_totales = lambda df: df.groupby([\"comuna\",\"semana_epi\"])[\"casos_totales\"].transform(lambda x: x.sum()),\n",
    "        casos_nuevos = lambda df: df.groupby([\"comuna\",\"semana_epi\"])[\"casos_nuevos\"].transform(lambda x: x.sum())\n",
    "    )\n",
    "    \n",
    "    #Se elimina la información restante\n",
    "    .drop_duplicates(subset=[\"comuna\",\"semana_epi\"])\n",
    "    .drop(columns=[\"fecha\"])\n",
    "    \n",
    ")\n",
    "\n",
    "covid_stgo.sort_values([\"comuna\",\"semana_epi\"])#.get#.unique()#.get_group(\"Santiago\")\n"
   ]
  },
  {
   "cell_type": "markdown",
   "metadata": {},
   "source": [
    "Ahora exploraremos el data frame trans_bip\n"
   ]
  },
  {
   "cell_type": "code",
   "execution_count": null,
   "metadata": {},
   "outputs": [],
   "source": [
    "display(trans_bip.info(), trans_bip[\"comuna\"].unique())\n",
    "ty_fecha =type(trans_bip[\"fecha\"][0])\n",
    "print (f\"\\n El formato de la columna fecha es, {ty_fecha}.\")"
   ]
  },
  {
   "cell_type": "markdown",
   "metadata": {},
   "source": [
    "Lo que haremos a continuación será lo siguiente\n",
    "1. Cambiar el formato de la columna fecha \n",
    "2. Agrupar los datos por semana\n",
    "\n"
   ]
  },
  {
   "cell_type": "code",
   "execution_count": null,
   "metadata": {},
   "outputs": [],
   "source": [
    "trans_covid = (\n",
    "    \n",
    "    #Se cambia el formato de la fecha\n",
    "    trans_bip.astype({\"fecha\" : \"datetime64[ns]\"})\n",
    "    \n",
    "    #Se agrupa la información de las transacciones según las semanas epidemológica (info que se define en semana_epi)\n",
    "    .assign(\n",
    "        semana_epi = lambda df: df[\"fecha\"].apply(lambda x: intento3(x)),\n",
    "        transacciones = lambda df: df.groupby([\"comuna\",\"semana_epi\"])[\"transacciones\"].transform(lambda x: x.sum())\n",
    "    )\n",
    "    \n",
    "    #Se elimina la información restante\n",
    "    .drop_duplicates(subset=[\"comuna\",\"semana_epi\"])\n",
    "    .drop(columns=[\"fecha\",\"codigo_comuna\"])\n",
    "    \n",
    ")\n",
    "\n",
    "trans_covid.head()"
   ]
  },
  {
   "cell_type": "markdown",
   "metadata": {},
   "source": [
    "Ahora exploraremos en que semanas podemos cruzar la información para eso\n",
    "1. Uniremos los data frames trans_covid y covid_stgo con el método inner pues para relacionar la información necesitamos que la información esté disponible en ambos dataframes\n",
    "2. Agruparemos por comuna para obtener un dataframe con la de las semanas donde la información está disponible"
   ]
  },
  {
   "cell_type": "code",
   "execution_count": null,
   "metadata": {},
   "outputs": [],
   "source": [
    "ver_info_covid=(\n",
    "    \n",
    "    #Unir los data frames\n",
    "    trans_covid.merge(covid_stgo, how=\"inner\", on=[\"comuna\", \"semana_epi\"])\n",
    "    \n",
    "    #Agrupar por comuna y obtener información\n",
    "    .groupby(\"comuna\")\n",
    "    .agg(\n",
    "        inicio=(\"semana_epi\", \"min\"),\n",
    "        fin=(\"semana_epi\", \"max\")\n",
    "        )\n",
    "    )\n",
    "\n",
    "display(ver_info_covid.head(),\n",
    "    ver_info_covid.loc[ver_info_covid[\"inicio\"]!=14],\n",
    "    ver_info_covid.loc[ver_info_covid[\"fin\"]!=20]\n",
    "        )"
   ]
  },
  {
   "cell_type": "markdown",
   "metadata": {},
   "source": [
    "Lo que nos dice que entre las semanas 14 y 20 podemos cruzar la información. Ahora encontraremos la cantidad de semanas entre el pick de transacciones y el pick de casos confirmados para eso\n",
    "1. Uniremos los dataframes trans_covid y covid_stgo como lo habiamos hecho antes\n",
    "2. Agruparemos por comuna y buscaremos el índice de los picks en cuestión para así encontrar la semana a la que corresponden"
   ]
  },
  {
   "cell_type": "code",
   "execution_count": null,
   "metadata": {},
   "outputs": [],
   "source": [
    "dif_max_casos_confirmados=(\n",
    "    trans_covid.merge(covid_stgo, how=\"inner\", on=[\"comuna\", \"semana_epi\"])\n",
    "    .groupby(\"comuna\")\n",
    "    .apply(lambda df: df[\"semana_epi\"][df[\"casos_totales\"].idxmax()] - df[\"semana_epi\"][df[\"transacciones\"].idxmax()])\n",
    ")\n",
    "\n",
    "dif_max_casos_confirmados"
   ]
  },
  {
   "cell_type": "markdown",
   "metadata": {},
   "source": [
    "Algunos datos de interes son"
   ]
  },
  {
   "cell_type": "code",
   "execution_count": null,
   "metadata": {},
   "outputs": [],
   "source": [
    "display(dif_max_casos_confirmados.describe(),\n",
    "dif_max_casos_confirmados.mode())"
   ]
  },
  {
   "cell_type": "markdown",
   "metadata": {},
   "source": [
    "Por último haremos el mismo estudio, pero ahora para la región completa para eso el dataframe stgo_covid_trans de la sigueinte manera\n",
    "1. Uniremos los dataframes trans_covid y covid_stgo como antes\n",
    "2. Actualizaremos las columnas para obtener los totales regionales (recordemos que las comunas estan restringidas a donde funciona el transporte público mediante bip en santiago)"
   ]
  },
  {
   "cell_type": "code",
   "execution_count": null,
   "metadata": {},
   "outputs": [],
   "source": [
    "stgo_covid_trans=(\n",
    "    trans_covid.merge(covid_stgo, how=\"inner\", on=[\"comuna\", \"semana_epi\"])\n",
    "    .assign(\n",
    "        casos_totales = lambda df: df.groupby(\"semana_epi\")[\"casos_totales\"].transform(lambda x: x.sum()),\n",
    "        casos_nuevos = lambda df: df.groupby(\"semana_epi\")[\"casos_nuevos\"].transform(lambda x: x.sum()),\n",
    "        transacciones = lambda df: df.groupby(\"semana_epi\")[\"transacciones\"].transform(lambda x: x.sum()),\n",
    "        poblacion = lambda df: df.groupby(\"semana_epi\")[\"poblacion\"].transform(lambda x: x.sum())\n",
    "    )\n",
    "    .drop_duplicates(subset=[\"semana_epi\"])\n",
    "    .drop(columns=[\"comuna\"])\n",
    ")\n",
    "stgo_covid_trans"
   ]
  },
  {
   "cell_type": "markdown",
   "metadata": {},
   "source": [
    "La diferencia entre el pick de transaccion y el pick de casos confirmados en la región de santiago es"
   ]
  },
  {
   "cell_type": "code",
   "execution_count": null,
   "metadata": {},
   "outputs": [],
   "source": [
    "stgo_covid_trans[\"semana_epi\"][stgo_covid_trans[\"casos_totales\"].idxmax()] - stgo_covid_trans[\"semana_epi\"][stgo_covid_trans[\"transacciones\"].idxmax()]"
   ]
  },
  {
   "cell_type": "code",
   "execution_count": null,
   "metadata": {},
   "outputs": [],
   "source": [
    "import numpy as np\n",
    "import matplotlib.pyplot as plt\n",
    "import matplotlib.cm as cm\n",
    "\n",
    "from scipy.stats import multivariate_normal\n",
    "\n",
    "%matplotlib inline\n",
    "\n",
    "eje_y = stgo_covid_trans[\"transacciones\"]#trans_covid.query(\"comuna=='Estación Central'\")[\"transacciones\"].values\n",
    "eje_x = stgo_covid_trans[\"semana_epi\"]#trans_covid.query(\"comuna=='Estación Central'\")[\"semana_epi\"].values\n",
    "\n",
    "#eje_x1 = #covid_stgo.query(\"comuna=='Estacion Central'\")[\"semana_epi\"].values\n",
    "eje_y1 = stgo_covid_trans[\"casos_nuevos\"]#covid_stgo.query(\"comuna=='Estacion Central'\")[\"casos_nuevos\"].values\n",
    "\n",
    "fig = plt.figure(figsize=(20, 10))\n",
    "\n",
    "plt.subplot(1, 2, 1)\n",
    "plt.plot(eje_x, eje_y, marker='o')\n",
    "plt.subplot(1, 2, 2)\n",
    "plt.plot(eje_x, eje_y1, marker='o')"
   ]
  },
  {
   "cell_type": "markdown",
   "metadata": {},
   "source": [
    "Lo último es comentar lo pertinente del análisis. No se ha considerado un lapso de tiempo entre la cerificación de los contagios y el contagio real (el transporte público), por lo que el resultado de la ventana de una semana es solo coincidencia. Esto pues la ventana temporal de la información disponible para cruzar es muy acotada."
   ]
  },
  {
   "cell_type": "markdown",
   "metadata": {},
   "source": [
    "#### Ejercicio 9\n",
    "\n",
    "(10 puntos)\n",
    "\n",
    "Propón y responde una pregunta que puedas resolver analizando dos o más conjuntos de datos del repositorio oficial de datos COVID-19 del Ministerio de Ciencia, Tecnología e Innovación de Chile ([link](https://github.com/MinCiencia/Datos-COVID19)). Sin utilizar ninguno de los datasets que hayas utilizado en el ejercicio 8.\n",
    "\n",
    "Se evaluará originalidad, análisis de datos, calidad de la pregunta y respuesta."
   ]
  },
  {
   "cell_type": "markdown",
   "metadata": {},
   "source": [
    "__Pregunta:__"
   ]
  },
  {
   "cell_type": "markdown",
   "metadata": {},
   "source": [
    "Compare el número de defunciones por mes de los últimos 4 años y verifique que las muertes por covid oficiales son coherentes con el aumento de muertes en general "
   ]
  },
  {
   "cell_type": "markdown",
   "metadata": {},
   "source": [
    "__Respuesta:__"
   ]
  },
  {
   "cell_type": "code",
   "execution_count": null,
   "metadata": {},
   "outputs": [],
   "source": [
    "def_17_20 = []\n",
    "fecha_act = \"2020-01-01_2020-10-29\"\n",
    "def_17_20.append(\n",
    "pd.read_csv(\"https://raw.githubusercontent.com/MinCiencia/Datos-COVID19/master/input/RegistroCivil/Defunciones/Defunciones_\"+fecha_act+\"_DO.csv\")\n",
    "    .rename(columns=lambda x: x.lower().replace(\" \", \"_\"))\n",
    ")\n",
    "\n",
    "for i in range(2010,2020):\n",
    "    def_17_20.append(\n",
    "    pd.read_csv(\"https://raw.githubusercontent.com/MinCiencia/Datos-COVID19/master/input/RegistroCivil/Defunciones/Defunciones_\"+str(i)+\"-01-01_\"+str(i)+\"-12-31_DO.csv\")\n",
    "    .rename(columns=lambda x: x.lower().replace(\" \", \"_\"))\n",
    ")\n",
    "\n",
    "def_tot = pd.concat(def_17_20)\n",
    "\n",
    "def_tot"
   ]
  },
  {
   "cell_type": "markdown",
   "metadata": {},
   "source": [
    "Para reducir la información a la necesaria haremos lo siguiente\n",
    "1. Definiremos 2 nuevas columnas año y mes\n",
    "2. Agruparemos por región y año y mes para calcular el número de defunciones totales y actualizaremos la columna defunciones con el total en este cada grupo "
   ]
  },
  {
   "cell_type": "code",
   "execution_count": null,
   "metadata": {},
   "outputs": [],
   "source": [
    "def_tot2 =(\n",
    "    def_tot.assign(\n",
    "        mes = lambda df: df[\"fecha\"].apply(lambda x: int(x.split(\"-\")[1])),\n",
    "        año = lambda df: df[\"fecha\"].apply(lambda x: int(x.split(\"-\")[0]))\n",
    "    )\n",
    "    .assign(\n",
    "        defunciones = lambda df: df.groupby([\"region\",\"año\",\"mes\"])[\"defunciones\"].transform(lambda x: x.sum())\n",
    "    )\n",
    "    .drop_duplicates(subset=[\"region\",\"mes\",\"año\"])\n",
    "    .drop(columns=[\"fecha\",\"comuna\",\"codigo_comuna\",\"codigo_region\"])\n",
    "    \n",
    "    #.groupby(\"mes\").agg(lambda x: x)\n",
    ")\n",
    "def_tot2.pivot(index=[\"año\",\"mes\"], columns = \"region\" , values = \"defunciones\")"
   ]
  },
  {
   "cell_type": "code",
   "execution_count": null,
   "metadata": {},
   "outputs": [],
   "source": [
    "def_covid=(\n",
    "pd.read_csv(\"https://raw.githubusercontent.com/MinCiencia/Datos-COVID19/master/output/producto50/DefuncionesDEIS_confirmadosPorComuna.csv\")\n",
    "    .rename(columns=lambda x: x.lower().replace(\" \", \"_\"))\n",
    "    .drop(columns=[\"codigo_region\",\"comuna\",\"codigo_comuna\",\"poblacion\"])\n",
    "    .apply(lambda x: x.fillna(0) if x.name[0:4] == \"2020\" else x.values)\n",
    ")\n",
    "def_covid.head()"
   ]
  },
  {
   "cell_type": "code",
   "execution_count": null,
   "metadata": {},
   "outputs": [],
   "source": [
    "def_covid2=(\n",
    "    def_covid\n",
    "    .melt( \n",
    "        id_vars=\"region\", \n",
    "        value_vars= def_covid.columns[1:],\n",
    "        var_name='fecha', \n",
    "        value_name='defunciones')\n",
    "    .assign(\n",
    "        mes = lambda df: df[\"fecha\"].apply(lambda x: int(x.split(\"-\")[1])),\n",
    "        año = 20202\n",
    "    )\n",
    "    .assign(\n",
    "        defunciones = lambda df: df.groupby([\"region\",\"año\",\"mes\"])[\"defunciones\"].transform(lambda x: x.sum())\n",
    "    )\n",
    "    .drop_duplicates(subset=[\"mes\",\"region\",\"año\"])\n",
    "    .drop(columns=[\"fecha\"])\n",
    "    #.groupby([\"region\", \"año\",\"mes\"]).agg(lambda x: x)\n",
    "   \n",
    ")\n",
    "\n",
    "def_covid2.pivot(index=[\"año\",\"mes\"], columns = \"region\" , values = \"defunciones\")"
   ]
  },
  {
   "cell_type": "code",
   "execution_count": null,
   "metadata": {},
   "outputs": [],
   "source": [
    "#dif_def = (\n",
    "#    def_tot2.groupby()\n",
    "#)\n",
    "\n",
    "#dif_def\n",
    "#pd.concat([def_covid2,def_tot2],left_on=\"mes\", axis=1)#.T#groupby(\"region\")"
   ]
  },
  {
   "cell_type": "code",
   "execution_count": null,
   "metadata": {},
   "outputs": [],
   "source": []
  }
 ],
 "metadata": {
  "kernelspec": {
   "display_name": "Python 3",
   "language": "python",
   "name": "python3"
  },
  "language_info": {
   "codemirror_mode": {
    "name": "ipython",
    "version": 3
   },
   "file_extension": ".py",
   "mimetype": "text/x-python",
   "name": "python",
   "nbconvert_exporter": "python",
   "pygments_lexer": "ipython3",
   "version": "3.7.8"
  }
 },
 "nbformat": 4,
 "nbformat_minor": 4
}
