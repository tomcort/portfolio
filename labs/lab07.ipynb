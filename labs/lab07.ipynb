{
 "cells": [
  {
   "cell_type": "markdown",
   "metadata": {
    "slideshow": {
     "slide_type": "slide"
    }
   },
   "source": [
    "# Laboratorio 7"
   ]
  },
  {
   "cell_type": "code",
   "execution_count": 14,
   "metadata": {},
   "outputs": [],
   "source": [
    "import numpy as np\n",
    "import pandas as pd\n",
    "import matplotlib.pyplot as plt\n",
    "import altair as alt\n",
    "\n",
    "from sklearn import datasets, linear_model\n",
    "from sklearn.metrics import mean_squared_error, r2_score\n",
    "\n",
    "alt.themes.enable('opaque')\n",
    "%matplotlib inline"
   ]
  },
  {
   "cell_type": "markdown",
   "metadata": {},
   "source": [
    "En este laboratorio utilizaremos los mismos datos de diabetes vistos en la clase"
   ]
  },
  {
   "cell_type": "code",
   "execution_count": 15,
   "metadata": {},
   "outputs": [
    {
     "data": {
      "text/html": [
       "<div>\n",
       "<style scoped>\n",
       "    .dataframe tbody tr th:only-of-type {\n",
       "        vertical-align: middle;\n",
       "    }\n",
       "\n",
       "    .dataframe tbody tr th {\n",
       "        vertical-align: top;\n",
       "    }\n",
       "\n",
       "    .dataframe thead th {\n",
       "        text-align: right;\n",
       "    }\n",
       "</style>\n",
       "<table border=\"1\" class=\"dataframe\">\n",
       "  <thead>\n",
       "    <tr style=\"text-align: right;\">\n",
       "      <th></th>\n",
       "      <th>age</th>\n",
       "      <th>sex</th>\n",
       "      <th>bmi</th>\n",
       "      <th>bp</th>\n",
       "      <th>s1</th>\n",
       "      <th>s2</th>\n",
       "      <th>s3</th>\n",
       "      <th>s4</th>\n",
       "      <th>s5</th>\n",
       "      <th>s6</th>\n",
       "      <th>target</th>\n",
       "    </tr>\n",
       "  </thead>\n",
       "  <tbody>\n",
       "    <tr>\n",
       "      <th>0</th>\n",
       "      <td>0.038076</td>\n",
       "      <td>0.050680</td>\n",
       "      <td>0.061696</td>\n",
       "      <td>0.021872</td>\n",
       "      <td>-0.044223</td>\n",
       "      <td>-0.034821</td>\n",
       "      <td>-0.043401</td>\n",
       "      <td>-0.002592</td>\n",
       "      <td>0.019908</td>\n",
       "      <td>-0.017646</td>\n",
       "      <td>151.0</td>\n",
       "    </tr>\n",
       "    <tr>\n",
       "      <th>1</th>\n",
       "      <td>-0.001882</td>\n",
       "      <td>-0.044642</td>\n",
       "      <td>-0.051474</td>\n",
       "      <td>-0.026328</td>\n",
       "      <td>-0.008449</td>\n",
       "      <td>-0.019163</td>\n",
       "      <td>0.074412</td>\n",
       "      <td>-0.039493</td>\n",
       "      <td>-0.068330</td>\n",
       "      <td>-0.092204</td>\n",
       "      <td>75.0</td>\n",
       "    </tr>\n",
       "    <tr>\n",
       "      <th>2</th>\n",
       "      <td>0.085299</td>\n",
       "      <td>0.050680</td>\n",
       "      <td>0.044451</td>\n",
       "      <td>-0.005671</td>\n",
       "      <td>-0.045599</td>\n",
       "      <td>-0.034194</td>\n",
       "      <td>-0.032356</td>\n",
       "      <td>-0.002592</td>\n",
       "      <td>0.002864</td>\n",
       "      <td>-0.025930</td>\n",
       "      <td>141.0</td>\n",
       "    </tr>\n",
       "    <tr>\n",
       "      <th>3</th>\n",
       "      <td>-0.089063</td>\n",
       "      <td>-0.044642</td>\n",
       "      <td>-0.011595</td>\n",
       "      <td>-0.036656</td>\n",
       "      <td>0.012191</td>\n",
       "      <td>0.024991</td>\n",
       "      <td>-0.036038</td>\n",
       "      <td>0.034309</td>\n",
       "      <td>0.022692</td>\n",
       "      <td>-0.009362</td>\n",
       "      <td>206.0</td>\n",
       "    </tr>\n",
       "    <tr>\n",
       "      <th>4</th>\n",
       "      <td>0.005383</td>\n",
       "      <td>-0.044642</td>\n",
       "      <td>-0.036385</td>\n",
       "      <td>0.021872</td>\n",
       "      <td>0.003935</td>\n",
       "      <td>0.015596</td>\n",
       "      <td>0.008142</td>\n",
       "      <td>-0.002592</td>\n",
       "      <td>-0.031991</td>\n",
       "      <td>-0.046641</td>\n",
       "      <td>135.0</td>\n",
       "    </tr>\n",
       "    <tr>\n",
       "      <th>...</th>\n",
       "      <td>...</td>\n",
       "      <td>...</td>\n",
       "      <td>...</td>\n",
       "      <td>...</td>\n",
       "      <td>...</td>\n",
       "      <td>...</td>\n",
       "      <td>...</td>\n",
       "      <td>...</td>\n",
       "      <td>...</td>\n",
       "      <td>...</td>\n",
       "      <td>...</td>\n",
       "    </tr>\n",
       "    <tr>\n",
       "      <th>437</th>\n",
       "      <td>0.041708</td>\n",
       "      <td>0.050680</td>\n",
       "      <td>0.019662</td>\n",
       "      <td>0.059744</td>\n",
       "      <td>-0.005697</td>\n",
       "      <td>-0.002566</td>\n",
       "      <td>-0.028674</td>\n",
       "      <td>-0.002592</td>\n",
       "      <td>0.031193</td>\n",
       "      <td>0.007207</td>\n",
       "      <td>178.0</td>\n",
       "    </tr>\n",
       "    <tr>\n",
       "      <th>438</th>\n",
       "      <td>-0.005515</td>\n",
       "      <td>0.050680</td>\n",
       "      <td>-0.015906</td>\n",
       "      <td>-0.067642</td>\n",
       "      <td>0.049341</td>\n",
       "      <td>0.079165</td>\n",
       "      <td>-0.028674</td>\n",
       "      <td>0.034309</td>\n",
       "      <td>-0.018118</td>\n",
       "      <td>0.044485</td>\n",
       "      <td>104.0</td>\n",
       "    </tr>\n",
       "    <tr>\n",
       "      <th>439</th>\n",
       "      <td>0.041708</td>\n",
       "      <td>0.050680</td>\n",
       "      <td>-0.015906</td>\n",
       "      <td>0.017282</td>\n",
       "      <td>-0.037344</td>\n",
       "      <td>-0.013840</td>\n",
       "      <td>-0.024993</td>\n",
       "      <td>-0.011080</td>\n",
       "      <td>-0.046879</td>\n",
       "      <td>0.015491</td>\n",
       "      <td>132.0</td>\n",
       "    </tr>\n",
       "    <tr>\n",
       "      <th>440</th>\n",
       "      <td>-0.045472</td>\n",
       "      <td>-0.044642</td>\n",
       "      <td>0.039062</td>\n",
       "      <td>0.001215</td>\n",
       "      <td>0.016318</td>\n",
       "      <td>0.015283</td>\n",
       "      <td>-0.028674</td>\n",
       "      <td>0.026560</td>\n",
       "      <td>0.044528</td>\n",
       "      <td>-0.025930</td>\n",
       "      <td>220.0</td>\n",
       "    </tr>\n",
       "    <tr>\n",
       "      <th>441</th>\n",
       "      <td>-0.045472</td>\n",
       "      <td>-0.044642</td>\n",
       "      <td>-0.073030</td>\n",
       "      <td>-0.081414</td>\n",
       "      <td>0.083740</td>\n",
       "      <td>0.027809</td>\n",
       "      <td>0.173816</td>\n",
       "      <td>-0.039493</td>\n",
       "      <td>-0.004220</td>\n",
       "      <td>0.003064</td>\n",
       "      <td>57.0</td>\n",
       "    </tr>\n",
       "  </tbody>\n",
       "</table>\n",
       "<p>442 rows × 11 columns</p>\n",
       "</div>"
      ],
      "text/plain": [
       "          age       sex       bmi        bp        s1        s2        s3  \\\n",
       "0    0.038076  0.050680  0.061696  0.021872 -0.044223 -0.034821 -0.043401   \n",
       "1   -0.001882 -0.044642 -0.051474 -0.026328 -0.008449 -0.019163  0.074412   \n",
       "2    0.085299  0.050680  0.044451 -0.005671 -0.045599 -0.034194 -0.032356   \n",
       "3   -0.089063 -0.044642 -0.011595 -0.036656  0.012191  0.024991 -0.036038   \n",
       "4    0.005383 -0.044642 -0.036385  0.021872  0.003935  0.015596  0.008142   \n",
       "..        ...       ...       ...       ...       ...       ...       ...   \n",
       "437  0.041708  0.050680  0.019662  0.059744 -0.005697 -0.002566 -0.028674   \n",
       "438 -0.005515  0.050680 -0.015906 -0.067642  0.049341  0.079165 -0.028674   \n",
       "439  0.041708  0.050680 -0.015906  0.017282 -0.037344 -0.013840 -0.024993   \n",
       "440 -0.045472 -0.044642  0.039062  0.001215  0.016318  0.015283 -0.028674   \n",
       "441 -0.045472 -0.044642 -0.073030 -0.081414  0.083740  0.027809  0.173816   \n",
       "\n",
       "           s4        s5        s6  target  \n",
       "0   -0.002592  0.019908 -0.017646   151.0  \n",
       "1   -0.039493 -0.068330 -0.092204    75.0  \n",
       "2   -0.002592  0.002864 -0.025930   141.0  \n",
       "3    0.034309  0.022692 -0.009362   206.0  \n",
       "4   -0.002592 -0.031991 -0.046641   135.0  \n",
       "..        ...       ...       ...     ...  \n",
       "437 -0.002592  0.031193  0.007207   178.0  \n",
       "438  0.034309 -0.018118  0.044485   104.0  \n",
       "439 -0.011080 -0.046879  0.015491   132.0  \n",
       "440  0.026560  0.044528 -0.025930   220.0  \n",
       "441 -0.039493 -0.004220  0.003064    57.0  \n",
       "\n",
       "[442 rows x 11 columns]"
      ]
     },
     "execution_count": 15,
     "metadata": {},
     "output_type": "execute_result"
    }
   ],
   "source": [
    "diabetes_X, diabetes_y = datasets.load_diabetes(return_X_y=True, as_frame=True)\n",
    "diabetes = pd.concat([diabetes_X, diabetes_y], axis=1)\n",
    "diabetes"
   ]
  },
  {
   "cell_type": "markdown",
   "metadata": {},
   "source": [
    "## Pregunta 1\n",
    "\n",
    "(1 pto)\n",
    "\n",
    "* ¿Por qué la columna de sexo tiene esos valores?\n",
    "* ¿Cuál es la columna a predecir?\n",
    "* ¿Crees que es necesario escalar o transformar los datos antes de comenzar el modelamiento?"
   ]
  },
  {
   "cell_type": "markdown",
   "metadata": {},
   "source": [
    "__Respuesta:__\n",
    "\n",
    "* Por la normalización, la cual depende del promedio y la desviación estandar. Finalmente solo se necesita un indentificador numérico para cada sexo.\n",
    "* Target.\n",
    "* Por lo mencionado en clases esto podría evitar problemas."
   ]
  },
  {
   "cell_type": "markdown",
   "metadata": {},
   "source": [
    "## Pregunta 2\n",
    "\n",
    "(1 pto)\n",
    "\n",
    "Realiza dos regresiones lineales con todas las _features_, el primer caso incluyendo intercepto y el segundo sin intercepto. Luego obtén la predicción para así calcular el error cuadrático medio y coeficiente de determinación de cada uno de ellos."
   ]
  },
  {
   "cell_type": "code",
   "execution_count": 20,
   "metadata": {},
   "outputs": [
    {
     "data": {
      "text/plain": [
       "LinearRegression()"
      ]
     },
     "execution_count": 20,
     "metadata": {},
     "output_type": "execute_result"
    }
   ],
   "source": [
    "from sklearn.linear_model import LinearRegression\n",
    "regr_with_incerpet = LinearRegression()\n",
    "regr_with_incerpet.fit(diabetes_X, diabetes_y)"
   ]
  },
  {
   "cell_type": "code",
   "execution_count": 35,
   "metadata": {},
   "outputs": [],
   "source": [
    "diabetes_y_pred_with_intercept = regr_with_incerpet.predict(diabetes_X)"
   ]
  },
  {
   "cell_type": "code",
   "execution_count": 34,
   "metadata": {},
   "outputs": [
    {
     "name": "stdout",
     "output_type": "stream",
     "text": [
      "Coefficients: \n",
      "[ -10.01219782 -239.81908937  519.83978679  324.39042769 -792.18416163\n",
      "  476.74583782  101.04457032  177.06417623  751.27932109   67.62538639]\n",
      "\n",
      "Intercept: \n",
      "152.1334841628965\n",
      "\n",
      "Mean squared error: 2859.69\n",
      "\n",
      "Coefficient of determination: 0.52\n"
     ]
    }
   ],
   "source": [
    "# Coeficientes\n",
    "print(f\"Coefficients: \\n{regr_with_incerpet.coef_}\\n\")\n",
    "# Intercepto\n",
    "print(f\"Intercept: \\n{regr_with_incerpet.intercept_}\\n\")\n",
    "# Error cuadrático medio\n",
    "print(f\"Mean squared error: {mean_squared_error(diabetes_y,diabetes_y_pred_with_intercept):.2f}\\n\")\n",
    "# Coeficiente de determinación\n",
    "print(f\"Coefficient of determination: {r2_score(diabetes_y, diabetes_y_pred_with_intercept):.2f}\")"
   ]
  },
  {
   "cell_type": "code",
   "execution_count": 37,
   "metadata": {},
   "outputs": [
    {
     "data": {
      "text/plain": [
       "LinearRegression(fit_intercept=False)"
      ]
     },
     "execution_count": 37,
     "metadata": {},
     "output_type": "execute_result"
    }
   ],
   "source": [
    "regr_without_incerpet = regr_with_incerpet = LinearRegression(fit_intercept=False)\n",
    "regr_without_incerpet.fit(diabetes_X, diabetes_y)"
   ]
  },
  {
   "cell_type": "code",
   "execution_count": 47,
   "metadata": {},
   "outputs": [],
   "source": [
    "diabetes_y_pred_without_intercept = regr_without_incerpet.predict(diabetes_X)"
   ]
  },
  {
   "cell_type": "code",
   "execution_count": 39,
   "metadata": {},
   "outputs": [
    {
     "name": "stdout",
     "output_type": "stream",
     "text": [
      "Coefficients: \n",
      "[ -10.01219782 -239.81908937  519.83978679  324.39042769 -792.18416163\n",
      "  476.74583782  101.04457032  177.06417623  751.27932109   67.62538639]\n",
      "\n",
      "Mean squared error: 26004.29\n",
      "\n",
      "Coefficient of determination: -3.39\n"
     ]
    }
   ],
   "source": [
    "# Coeficientes\n",
    "print(f\"Coefficients: \\n{regr_without_incerpet.coef_}\\n\")\n",
    "# Error cuadrático medio\n",
    "print(f\"Mean squared error: {mean_squared_error(diabetes_y,diabetes_y_pred_without_intercept):.2f}\\n\")\n",
    "# Coeficiente de determinación\n",
    "print(f\"Coefficient of determination: {r2_score(diabetes_y,diabetes_y_pred_without_intercept):.2f}\")"
   ]
  },
  {
   "cell_type": "markdown",
   "metadata": {},
   "source": [
    "**Pregunta: ¿Qué tan bueno fue el ajuste del modelo?**"
   ]
  },
  {
   "cell_type": "markdown",
   "metadata": {},
   "source": [
    "__Respuesta:__\n",
    "Es bastante malo el ajuste debido al alto error cuadrático medio y el bajo coeficiente de determinación\n"
   ]
  },
  {
   "cell_type": "markdown",
   "metadata": {},
   "source": [
    "## Pregunta 3\n",
    "\n",
    "(1 pto)\n",
    "\n",
    "Realizar multiples regresiones lineales utilizando una sola _feature_ a la vez. \n",
    "\n",
    "En cada iteración:\n",
    "\n",
    "- Crea un arreglo `X_i`con solo una feature filtrando `X`.\n",
    "- Crea un modelo de regresión lineal con intercepto.\n",
    "- Ajusta el modelo anterior.\n",
    "- Genera una predicción con el modelo.\n",
    "- Calcula e imprime las métricas de la pregunta anterior."
   ]
  },
  {
   "cell_type": "code",
   "execution_count": 61,
   "metadata": {},
   "outputs": [
    {
     "name": "stdout",
     "output_type": "stream",
     "text": [
      "Feature: age\n",
      "\tCoefficients: [304.18307453]\n",
      "\tIntercept: 152.13348416289605\n",
      "\tMean squared error: 5720.55\n",
      "\tCoefficient of determination: 0.04\n",
      "\n",
      "Feature: sex\n",
      "\tCoefficients: [69.71535568]\n",
      "\tIntercept: 152.13348416289594\n",
      "\tMean squared error: 5918.89\n",
      "\tCoefficient of determination: 0.00\n",
      "\n",
      "Feature: bmi\n",
      "\tCoefficients: [949.43526038]\n",
      "\tIntercept: 152.1334841628967\n",
      "\tMean squared error: 3890.46\n",
      "\tCoefficient of determination: 0.34\n",
      "\n",
      "Feature: bp\n",
      "\tCoefficients: [714.7416437]\n",
      "\tIntercept: 152.13348416289585\n",
      "\tMean squared error: 4774.10\n",
      "\tCoefficient of determination: 0.19\n",
      "\n",
      "Feature: s1\n",
      "\tCoefficients: [343.25445189]\n",
      "\tIntercept: 152.13348416289597\n",
      "\tMean squared error: 5663.32\n",
      "\tCoefficient of determination: 0.04\n",
      "\n",
      "Feature: s2\n",
      "\tCoefficients: [281.78459335]\n",
      "\tIntercept: 152.1334841628959\n",
      "\tMean squared error: 5750.24\n",
      "\tCoefficient of determination: 0.03\n",
      "\n",
      "Feature: s3\n",
      "\tCoefficients: [-639.14527932]\n",
      "\tIntercept: 152.13348416289566\n",
      "\tMean squared error: 5005.66\n",
      "\tCoefficient of determination: 0.16\n",
      "\n",
      "Feature: s4\n",
      "\tCoefficients: [696.88303009]\n",
      "\tIntercept: 152.13348416289568\n",
      "\tMean squared error: 4831.14\n",
      "\tCoefficient of determination: 0.19\n",
      "\n",
      "Feature: s5\n",
      "\tCoefficients: [916.13872282]\n",
      "\tIntercept: 152.13348416289628\n",
      "\tMean squared error: 4030.99\n",
      "\tCoefficient of determination: 0.32\n",
      "\n",
      "Feature: s6\n",
      "\tCoefficients: [619.22282068]\n",
      "\tIntercept: 152.13348416289614\n",
      "\tMean squared error: 5062.38\n",
      "\tCoefficient of determination: 0.15\n",
      "\n"
     ]
    }
   ],
   "source": [
    "for col in diabetes_X:\n",
    "    X_i = pd.DataFrame(diabetes_X[col])\n",
    "    regr_i = LinearRegression()\n",
    "    regr_i.fit(X_i,diabetes_y)\n",
    "    diabetes_y_pred_i = regr_i.predict(X_i)\n",
    "    print(f\"Feature: {col}\")\n",
    "    print(f\"\\tCoefficients: {regr_i.coef_}\")\n",
    "    print(f\"\\tIntercept: {regr_i.intercept_}\")\n",
    "    print(f\"\\tMean squared error: {mean_squared_error(diabetes_y,diabetes_y_pred_i):.2f}\")\n",
    "    print(f\"\\tCoefficient of determination: {r2_score(diabetes_y,diabetes_y_pred_i):.2f}\\n\")"
   ]
  },
  {
   "cell_type": "markdown",
   "metadata": {},
   "source": [
    "**Pregunta: Si tuvieras que escoger una sola _feauture_, ¿Cuál sería? ¿Por qué?**"
   ]
  },
  {
   "cell_type": "markdown",
   "metadata": {},
   "source": [
    "**Respuesta:** El feature bmi, pues es el con menor error cuadrático medio y con mayor coeficiente de determinación"
   ]
  },
  {
   "cell_type": "markdown",
   "metadata": {},
   "source": [
    "## Ejercicio 4\n",
    "\n",
    "(1 pto)\n",
    "\n",
    "Con la feature escogida en el ejercicio 3 realiza el siguiente gráfico:\n",
    "\n",
    "- Scatter Plot\n",
    "- Eje X: Valores de la feature escogida.\n",
    "- Eje Y: Valores de la columna a predecir (target).\n",
    "- En color rojo dibuja la recta correspondiente a la regresión lineal (utilizando `intercept_`y `coefs_`).\n",
    "- Coloca un título adecuado, nombre de los ejes, etc.\n",
    "\n",
    "Puedes utilizar `matplotlib` o `altair`, el que prefieras."
   ]
  },
  {
   "cell_type": "code",
   "execution_count": 62,
   "metadata": {},
   "outputs": [],
   "source": [
    "regr = linear_model.LinearRegression().fit(pd.DataFrame(diabetes_X[\"bmi\"]), diabetes_y)"
   ]
  },
  {
   "cell_type": "code",
   "execution_count": 63,
   "metadata": {},
   "outputs": [
    {
     "data": {
      "text/plain": [
       "array([949.43526038])"
      ]
     },
     "execution_count": 63,
     "metadata": {},
     "output_type": "execute_result"
    }
   ],
   "source": [
    "y=regr.coef_"
   ]
  },
  {
   "cell_type": "code",
   "execution_count": 70,
   "metadata": {},
   "outputs": [
    {
     "data": {
      "image/png": "[encoded data removed]",
      "text/plain": [
       "<Figure size 1440x720 with 1 Axes>"
      ]
     },
     "metadata": {
      "needs_background": "light"
     },
     "output_type": "display_data"
    }
   ],
   "source": [
    "fig = plt.figure(figsize=(20, 10))\n",
    "\n",
    "\n",
    "plt.scatter(diabetes_y, diabetes_X[\"bmi\"], color=\"g\", alpha=0.4)\n",
    "plt.plot(regr.intercept_+regr.coef_*diabetes_X[\"bmi\"], diabetes_X[\"bmi\"], color=\"r\", alpha=0.6)\n",
    "\n",
    "plt.title(\"Regresión del menor feauture\")\n",
    "plt.xlabel('bmi')\n",
    "plt.ylabel('target')\n",
    "\n",
    "plt.show()"
   ]
  }
 ],
 "metadata": {
  "kernelspec": {
   "display_name": "Python 3",
   "language": "python",
   "name": "python3"
  },
  "language_info": {
   "codemirror_mode": {
    "name": "ipython",
    "version": 3
   },
   "file_extension": ".py",
   "mimetype": "text/x-python",
   "name": "python",
   "nbconvert_exporter": "python",
   "pygments_lexer": "ipython3",
   "version": "3.7.8"
  }
 },
 "nbformat": 4,
 "nbformat_minor": 4
}
