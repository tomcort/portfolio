{
 "cells": [
  {
   "cell_type": "markdown",
   "metadata": {
    "slideshow": {
     "slide_type": "slide"
    }
   },
   "source": [
    "# Laboratorio 9"
   ]
  },
  {
   "cell_type": "code",
   "execution_count": 1,
   "metadata": {},
   "outputs": [],
   "source": [
    "import pandas as pd\n",
    "import altair as alt\n",
    "import matplotlib.pyplot as plt\n",
    "\n",
    "from vega_datasets import data\n",
    "\n",
    "alt.themes.enable('opaque')\n",
    "%matplotlib inline"
   ]
  },
  {
   "cell_type": "markdown",
   "metadata": {},
   "source": [
    "En este laboratorio utilizaremos un conjunto de datos _famoso_, el GapMinder. Esta es una versión reducida que solo considera países, ingresos, salud y población. \n",
    "\n",
    "¿Hay alguna forma natural de agrupar a estos países?"
   ]
  },
  {
   "cell_type": "code",
   "execution_count": 2,
   "metadata": {},
   "outputs": [
    {
     "data": {
      "text/html": [
       "<div>\n",
       "<style scoped>\n",
       "    .dataframe tbody tr th:only-of-type {\n",
       "        vertical-align: middle;\n",
       "    }\n",
       "\n",
       "    .dataframe tbody tr th {\n",
       "        vertical-align: top;\n",
       "    }\n",
       "\n",
       "    .dataframe thead th {\n",
       "        text-align: right;\n",
       "    }\n",
       "</style>\n",
       "<table border=\"1\" class=\"dataframe\">\n",
       "  <thead>\n",
       "    <tr style=\"text-align: right;\">\n",
       "      <th></th>\n",
       "      <th>country</th>\n",
       "      <th>income</th>\n",
       "      <th>health</th>\n",
       "      <th>population</th>\n",
       "    </tr>\n",
       "  </thead>\n",
       "  <tbody>\n",
       "    <tr>\n",
       "      <th>0</th>\n",
       "      <td>Afghanistan</td>\n",
       "      <td>1925</td>\n",
       "      <td>57.63</td>\n",
       "      <td>32526562</td>\n",
       "    </tr>\n",
       "    <tr>\n",
       "      <th>1</th>\n",
       "      <td>Albania</td>\n",
       "      <td>10620</td>\n",
       "      <td>76.00</td>\n",
       "      <td>2896679</td>\n",
       "    </tr>\n",
       "    <tr>\n",
       "      <th>2</th>\n",
       "      <td>Algeria</td>\n",
       "      <td>13434</td>\n",
       "      <td>76.50</td>\n",
       "      <td>39666519</td>\n",
       "    </tr>\n",
       "    <tr>\n",
       "      <th>3</th>\n",
       "      <td>Andorra</td>\n",
       "      <td>46577</td>\n",
       "      <td>84.10</td>\n",
       "      <td>70473</td>\n",
       "    </tr>\n",
       "    <tr>\n",
       "      <th>4</th>\n",
       "      <td>Angola</td>\n",
       "      <td>7615</td>\n",
       "      <td>61.00</td>\n",
       "      <td>25021974</td>\n",
       "    </tr>\n",
       "  </tbody>\n",
       "</table>\n",
       "</div>"
      ],
      "text/plain": [
       "       country  income  health  population\n",
       "0  Afghanistan    1925   57.63    32526562\n",
       "1      Albania   10620   76.00     2896679\n",
       "2      Algeria   13434   76.50    39666519\n",
       "3      Andorra   46577   84.10       70473\n",
       "4       Angola    7615   61.00    25021974"
      ]
     },
     "execution_count": 2,
     "metadata": {},
     "output_type": "execute_result"
    }
   ],
   "source": [
    "gapminder = data.gapminder_health_income()\n",
    "gapminder.head()"
   ]
  },
  {
   "cell_type": "markdown",
   "metadata": {},
   "source": [
    "## Ejercicio 1\n",
    "\n",
    "(1 pto.)\n",
    "\n",
    "Realiza un Análisis exploratorio, como mínimo un `describe` del dataframe y una visualización adecuada, por ejemplo un _scatter matrix_ con los valores numéricos."
   ]
  },
  {
   "cell_type": "code",
   "execution_count": 68,
   "metadata": {},
   "outputs": [
    {
     "data": {
      "text/html": [
       "<div>\n",
       "<style scoped>\n",
       "    .dataframe tbody tr th:only-of-type {\n",
       "        vertical-align: middle;\n",
       "    }\n",
       "\n",
       "    .dataframe tbody tr th {\n",
       "        vertical-align: top;\n",
       "    }\n",
       "\n",
       "    .dataframe thead th {\n",
       "        text-align: right;\n",
       "    }\n",
       "</style>\n",
       "<table border=\"1\" class=\"dataframe\">\n",
       "  <thead>\n",
       "    <tr style=\"text-align: right;\">\n",
       "      <th></th>\n",
       "      <th>count</th>\n",
       "      <th>mean</th>\n",
       "      <th>std</th>\n",
       "      <th>min</th>\n",
       "      <th>25%</th>\n",
       "      <th>50%</th>\n",
       "      <th>75%</th>\n",
       "      <th>max</th>\n",
       "    </tr>\n",
       "  </thead>\n",
       "  <tbody>\n",
       "    <tr>\n",
       "      <th>income</th>\n",
       "      <td>187.0</td>\n",
       "      <td>1.723224e+04</td>\n",
       "      <td>1.931063e+04</td>\n",
       "      <td>599.0</td>\n",
       "      <td>3585.5</td>\n",
       "      <td>10996.00</td>\n",
       "      <td>23834.0</td>\n",
       "      <td>1.328770e+05</td>\n",
       "    </tr>\n",
       "    <tr>\n",
       "      <th>health</th>\n",
       "      <td>187.0</td>\n",
       "      <td>7.167326e+01</td>\n",
       "      <td>7.748959e+00</td>\n",
       "      <td>48.5</td>\n",
       "      <td>65.5</td>\n",
       "      <td>73.13</td>\n",
       "      <td>77.7</td>\n",
       "      <td>8.410000e+01</td>\n",
       "    </tr>\n",
       "    <tr>\n",
       "      <th>population</th>\n",
       "      <td>187.0</td>\n",
       "      <td>3.908887e+07</td>\n",
       "      <td>1.432898e+08</td>\n",
       "      <td>52993.0</td>\n",
       "      <td>2248920.0</td>\n",
       "      <td>8544586.00</td>\n",
       "      <td>27693878.0</td>\n",
       "      <td>1.376049e+09</td>\n",
       "    </tr>\n",
       "    <tr>\n",
       "      <th>cluster</th>\n",
       "      <td>187.0</td>\n",
       "      <td>4.973262e-01</td>\n",
       "      <td>5.223431e-01</td>\n",
       "      <td>0.0</td>\n",
       "      <td>0.0</td>\n",
       "      <td>0.00</td>\n",
       "      <td>1.0</td>\n",
       "      <td>2.000000e+00</td>\n",
       "    </tr>\n",
       "  </tbody>\n",
       "</table>\n",
       "</div>"
      ],
      "text/plain": [
       "            count          mean           std      min        25%         50%  \\\n",
       "income      187.0  1.723224e+04  1.931063e+04    599.0     3585.5    10996.00   \n",
       "health      187.0  7.167326e+01  7.748959e+00     48.5       65.5       73.13   \n",
       "population  187.0  3.908887e+07  1.432898e+08  52993.0  2248920.0  8544586.00   \n",
       "cluster     187.0  4.973262e-01  5.223431e-01      0.0        0.0        0.00   \n",
       "\n",
       "                   75%           max  \n",
       "income         23834.0  1.328770e+05  \n",
       "health            77.7  8.410000e+01  \n",
       "population  27693878.0  1.376049e+09  \n",
       "cluster            1.0  2.000000e+00  "
      ]
     },
     "metadata": {},
     "output_type": "display_data"
    },
    {
     "data": {
      "text/html": [
       "\n",
       "<div id=\"altair-viz-1d21c6ff84b041f4b17145a83ff98f17\"></div>\n",
       "<script type=\"text/javascript\">\n",
       "  (function(spec, embedOpt){\n",
       "    let outputDiv = document.currentScript.previousElementSibling;\n",
       "    if (outputDiv.id !== \"altair-viz-1d21c6ff84b041f4b17145a83ff98f17\") {\n",
       "      outputDiv = document.getElementById(\"altair-viz-1d21c6ff84b041f4b17145a83ff98f17\");\n",
       "    }\n",
       "    const paths = {\n",
       "      \"vega\": \"https://cdn.jsdelivr.net/npm//vega@5?noext\",\n",
       "      \"vega-lib\": \"https://cdn.jsdelivr.net/npm//vega-lib?noext\",\n",
       "      \"vega-lite\": \"https://cdn.jsdelivr.net/npm//vega-lite@4.8.1?noext\",\n",
       "      \"vega-embed\": \"https://cdn.jsdelivr.net/npm//vega-embed@6?noext\",\n",
       "    };\n",
       "\n",
       "    function loadScript(lib) {\n",
       "      return new Promise(function(resolve, reject) {\n",
       "        var s = document.createElement('script');\n",
       "        s.src = paths[lib];\n",
       "        s.async = true;\n",
       "        s.onload = () => resolve(paths[lib]);\n",
       "        s.onerror = () => reject(`Error loading script: ${paths[lib]}`);\n",
       "        document.getElementsByTagName(\"head\")[0].appendChild(s);\n",
       "      });\n",
       "    }\n",
       "\n",
       "    function showError(err) {\n",
       "      outputDiv.innerHTML = `<div class=\"error\" style=\"color:red;\">${err}</div>`;\n",
       "      throw err;\n",
       "    }\n",
       "\n",
       "    function displayChart(vegaEmbed) {\n",
       "      vegaEmbed(outputDiv, spec, embedOpt)\n",
       "        .catch(err => showError(`Javascript Error: ${err.message}<br>This usually means there's a typo in your chart specification. See the javascript console for the full traceback.`));\n",
       "    }\n",
       "\n",
       "    if(typeof define === \"function\" && define.amd) {\n",
       "      requirejs.config({paths});\n",
       "      require([\"vega-embed\"], displayChart, err => showError(`Error loading script: ${err.message}`));\n",
       "    } else if (typeof vegaEmbed === \"function\") {\n",
       "      displayChart(vegaEmbed);\n",
       "    } else {\n",
       "      loadScript(\"vega\")\n",
       "        .then(() => loadScript(\"vega-lite\"))\n",
       "        .then(() => loadScript(\"vega-embed\"))\n",
       "        .catch(showError)\n",
       "        .then(() => displayChart(vegaEmbed));\n",
       "    }\n",
       "  })({\"config\": {\"background\": \"white\", \"view\": {\"continuousWidth\": 400, \"continuousHeight\": 300}}, \"repeat\": {\"column\": [\"population\", \"health\", \"income\"], \"row\": [\"income\", \"health\", \"population\"]}, \"spec\": {\"data\": {\"name\": \"data-e19b33869877c38715e8e2246b54c119\"}, \"mark\": \"circle\", \"encoding\": {\"x\": {\"type\": \"quantitative\", \"field\": {\"repeat\": \"column\"}}, \"y\": {\"type\": \"quantitative\", \"field\": {\"repeat\": \"row\"}}}, \"height\": 150, \"selection\": {\"selector027\": {\"type\": \"interval\", \"bind\": \"scales\", \"encodings\": [\"x\", \"y\"]}}, \"width\": 150}, \"$schema\": \"https://vega.github.io/schema/vega-lite/v4.8.1.json\", \"datasets\": {\"data-e19b33869877c38715e8e2246b54c119\": [{\"country\": \"Afghanistan\", \"income\": 1925, \"health\": 57.63, \"population\": 32526562, \"cluster\": 0}, {\"country\": \"Albania\", \"income\": 10620, \"health\": 76.0, \"population\": 2896679, \"cluster\": 1}, {\"country\": \"Algeria\", \"income\": 13434, \"health\": 76.5, \"population\": 39666519, \"cluster\": 1}, {\"country\": \"Andorra\", \"income\": 46577, \"health\": 84.1, \"population\": 70473, \"cluster\": 1}, {\"country\": \"Angola\", \"income\": 7615, \"health\": 61.0, \"population\": 25021974, \"cluster\": 0}, {\"country\": \"Antigua and Barbuda\", \"income\": 21049, \"health\": 75.2, \"population\": 91818, \"cluster\": 1}, {\"country\": \"Argentina\", \"income\": 17344, \"health\": 76.2, \"population\": 43416755, \"cluster\": 1}, {\"country\": \"Armenia\", \"income\": 7763, \"health\": 74.4, \"population\": 3017712, \"cluster\": 0}, {\"country\": \"Australia\", \"income\": 44056, \"health\": 81.8, \"population\": 23968973, \"cluster\": 1}, {\"country\": \"Austria\", \"income\": 44401, \"health\": 81.0, \"population\": 8544586, \"cluster\": 1}, {\"country\": \"Azerbaijan\", \"income\": 16986, \"health\": 72.9, \"population\": 9753968, \"cluster\": 1}, {\"country\": \"Bahamas\", \"income\": 22818, \"health\": 72.3, \"population\": 388019, \"cluster\": 1}, {\"country\": \"Bahrain\", \"income\": 44138, \"health\": 79.2, \"population\": 1377237, \"cluster\": 1}, {\"country\": \"Bangladesh\", \"income\": 3161, \"health\": 70.1, \"population\": 160995642, \"cluster\": 0}, {\"country\": \"Barbados\", \"income\": 12984, \"health\": 75.8, \"population\": 284215, \"cluster\": 1}, {\"country\": \"Belarus\", \"income\": 17415, \"health\": 70.4, \"population\": 9495826, \"cluster\": 0}, {\"country\": \"Belgium\", \"income\": 41240, \"health\": 80.4, \"population\": 11299192, \"cluster\": 1}, {\"country\": \"Belize\", \"income\": 8501, \"health\": 70.0, \"population\": 359287, \"cluster\": 0}, {\"country\": \"Benin\", \"income\": 1830, \"health\": 65.5, \"population\": 10879829, \"cluster\": 0}, {\"country\": \"Bhutan\", \"income\": 7983, \"health\": 70.2, \"population\": 774830, \"cluster\": 0}, {\"country\": \"Bolivia\", \"income\": 6295, \"health\": 72.3, \"population\": 10724705, \"cluster\": 0}, {\"country\": \"Bosnia and Herzegovina\", \"income\": 9833, \"health\": 77.9, \"population\": 3810416, \"cluster\": 1}, {\"country\": \"Botswana\", \"income\": 17196, \"health\": 66.4, \"population\": 2262485, \"cluster\": 0}, {\"country\": \"Brazil\", \"income\": 15441, \"health\": 75.6, \"population\": 207847528, \"cluster\": 1}, {\"country\": \"Brunei\", \"income\": 73003, \"health\": 78.7, \"population\": 423188, \"cluster\": 1}, {\"country\": \"Bulgaria\", \"income\": 16371, \"health\": 74.9, \"population\": 7149787, \"cluster\": 1}, {\"country\": \"Burkina Faso\", \"income\": 1654, \"health\": 62.8, \"population\": 18105570, \"cluster\": 0}, {\"country\": \"Burundi\", \"income\": 777, \"health\": 60.4, \"population\": 11178921, \"cluster\": 0}, {\"country\": \"Cambodia\", \"income\": 3267, \"health\": 68.4, \"population\": 15577899, \"cluster\": 0}, {\"country\": \"Cameroon\", \"income\": 2897, \"health\": 59.5, \"population\": 23344179, \"cluster\": 0}, {\"country\": \"Canada\", \"income\": 43294, \"health\": 81.7, \"population\": 35939927, \"cluster\": 1}, {\"country\": \"Cape Verde\", \"income\": 6514, \"health\": 74.6, \"population\": 520502, \"cluster\": 0}, {\"country\": \"Central African Republic\", \"income\": 599, \"health\": 53.8, \"population\": 4900274, \"cluster\": 0}, {\"country\": \"Chad\", \"income\": 2191, \"health\": 57.7, \"population\": 14037472, \"cluster\": 0}, {\"country\": \"Chile\", \"income\": 22465, \"health\": 79.3, \"population\": 17948141, \"cluster\": 1}, {\"country\": \"China\", \"income\": 13334, \"health\": 76.9, \"population\": 1376048943, \"cluster\": 2}, {\"country\": \"Colombia\", \"income\": 12761, \"health\": 75.8, \"population\": 48228704, \"cluster\": 1}, {\"country\": \"Comoros\", \"income\": 1472, \"health\": 64.1, \"population\": 788474, \"cluster\": 0}, {\"country\": \"Congo, Dem. Rep.\", \"income\": 809, \"health\": 58.3, \"population\": 77266814, \"cluster\": 0}, {\"country\": \"Congo, Rep.\", \"income\": 6220, \"health\": 61.9, \"population\": 4620330, \"cluster\": 0}, {\"country\": \"Costa Rica\", \"income\": 14132, \"health\": 80.0, \"population\": 4807850, \"cluster\": 1}, {\"country\": \"Cote d'Ivoire\", \"income\": 3491, \"health\": 60.33, \"population\": 22701556, \"cluster\": 0}, {\"country\": \"Croatia\", \"income\": 20260, \"health\": 78.0, \"population\": 4240317, \"cluster\": 1}, {\"country\": \"Cuba\", \"income\": 21291, \"health\": 78.5, \"population\": 11389562, \"cluster\": 1}, {\"country\": \"Cyprus\", \"income\": 29797, \"health\": 82.6, \"population\": 1165300, \"cluster\": 1}, {\"country\": \"Czech Republic\", \"income\": 29437, \"health\": 78.6, \"population\": 10543186, \"cluster\": 1}, {\"country\": \"Denmark\", \"income\": 43495, \"health\": 80.1, \"population\": 5669081, \"cluster\": 1}, {\"country\": \"Djibouti\", \"income\": 3139, \"health\": 64.63, \"population\": 887861, \"cluster\": 0}, {\"country\": \"Dominica\", \"income\": 10503, \"health\": 74.6, \"population\": 72680, \"cluster\": 1}, {\"country\": \"Dominican Republic\", \"income\": 12837, \"health\": 73.8, \"population\": 10528391, \"cluster\": 1}, {\"country\": \"Ecuador\", \"income\": 10996, \"health\": 75.2, \"population\": 16144363, \"cluster\": 1}, {\"country\": \"Egypt\", \"income\": 11031, \"health\": 71.3, \"population\": 91508084, \"cluster\": 0}, {\"country\": \"El Salvador\", \"income\": 7776, \"health\": 74.1, \"population\": 6126583, \"cluster\": 0}, {\"country\": \"Equatorial Guinea\", \"income\": 31087, \"health\": 60.63, \"population\": 845060, \"cluster\": 0}, {\"country\": \"Eritrea\", \"income\": 1129, \"health\": 62.9, \"population\": 5227791, \"cluster\": 0}, {\"country\": \"Estonia\", \"income\": 26812, \"health\": 76.8, \"population\": 1312558, \"cluster\": 1}, {\"country\": \"Ethiopia\", \"income\": 1520, \"health\": 63.6, \"population\": 99390750, \"cluster\": 0}, {\"country\": \"Fiji\", \"income\": 7925, \"health\": 66.3, \"population\": 892145, \"cluster\": 0}, {\"country\": \"Finland\", \"income\": 38923, \"health\": 80.8, \"population\": 5503457, \"cluster\": 1}, {\"country\": \"France\", \"income\": 37599, \"health\": 81.9, \"population\": 64395345, \"cluster\": 1}, {\"country\": \"Gabon\", \"income\": 18627, \"health\": 60.53, \"population\": 1725292, \"cluster\": 0}, {\"country\": \"Gambia\", \"income\": 1644, \"health\": 65.1, \"population\": 1990924, \"cluster\": 0}, {\"country\": \"Georgia\", \"income\": 7474, \"health\": 73.3, \"population\": 3999812, \"cluster\": 0}, {\"country\": \"Germany\", \"income\": 44053, \"health\": 81.1, \"population\": 80688545, \"cluster\": 1}, {\"country\": \"Ghana\", \"income\": 4099, \"health\": 65.5, \"population\": 27409893, \"cluster\": 0}, {\"country\": \"Greece\", \"income\": 25430, \"health\": 79.8, \"population\": 10954617, \"cluster\": 1}, {\"country\": \"Grenada\", \"income\": 11593, \"health\": 71.7, \"population\": 106825, \"cluster\": 0}, {\"country\": \"Guatemala\", \"income\": 7279, \"health\": 73.1, \"population\": 16342897, \"cluster\": 0}, {\"country\": \"Guinea\", \"income\": 1225, \"health\": 60.8, \"population\": 12608590, \"cluster\": 0}, {\"country\": \"Guinea-Bissau\", \"income\": 1386, \"health\": 53.4, \"population\": 1844325, \"cluster\": 0}, {\"country\": \"Guyana\", \"income\": 6816, \"health\": 64.4, \"population\": 767085, \"cluster\": 0}, {\"country\": \"Haiti\", \"income\": 1710, \"health\": 65.3, \"population\": 10711067, \"cluster\": 0}, {\"country\": \"Honduras\", \"income\": 4270, \"health\": 72.4, \"population\": 8075060, \"cluster\": 0}, {\"country\": \"Hungary\", \"income\": 24200, \"health\": 76.2, \"population\": 9855023, \"cluster\": 1}, {\"country\": \"Iceland\", \"income\": 42182, \"health\": 82.8, \"population\": 329425, \"cluster\": 1}, {\"country\": \"India\", \"income\": 5903, \"health\": 66.8, \"population\": 1311050527, \"cluster\": 2}, {\"country\": \"Indonesia\", \"income\": 10504, \"health\": 70.9, \"population\": 257563815, \"cluster\": 0}, {\"country\": \"Iran\", \"income\": 15573, \"health\": 78.5, \"population\": 79109272, \"cluster\": 1}, {\"country\": \"Iraq\", \"income\": 14646, \"health\": 72.1, \"population\": 36423395, \"cluster\": 0}, {\"country\": \"Ireland\", \"income\": 47758, \"health\": 80.4, \"population\": 4688465, \"cluster\": 1}, {\"country\": \"Israel\", \"income\": 31590, \"health\": 82.4, \"population\": 8064036, \"cluster\": 1}, {\"country\": \"Italy\", \"income\": 33297, \"health\": 82.1, \"population\": 59797685, \"cluster\": 1}, {\"country\": \"Jamaica\", \"income\": 8606, \"health\": 75.5, \"population\": 2793335, \"cluster\": 1}, {\"country\": \"Japan\", \"income\": 36162, \"health\": 83.5, \"population\": 126573481, \"cluster\": 1}, {\"country\": \"Jordan\", \"income\": 11752, \"health\": 78.3, \"population\": 7594547, \"cluster\": 1}, {\"country\": \"Kazakhstan\", \"income\": 23468, \"health\": 68.2, \"population\": 17625226, \"cluster\": 0}, {\"country\": \"Kenya\", \"income\": 2898, \"health\": 66.63, \"population\": 46050302, \"cluster\": 0}, {\"country\": \"Kiribati\", \"income\": 1824, \"health\": 62.4, \"population\": 112423, \"cluster\": 0}, {\"country\": \"Kuwait\", \"income\": 82633, \"health\": 80.7, \"population\": 3892115, \"cluster\": 1}, {\"country\": \"Kyrgyz Republic\", \"income\": 3245, \"health\": 69.0, \"population\": 5939962, \"cluster\": 0}, {\"country\": \"Lao\", \"income\": 5212, \"health\": 66.4, \"population\": 6802023, \"cluster\": 0}, {\"country\": \"Latvia\", \"income\": 23282, \"health\": 75.7, \"population\": 1970503, \"cluster\": 1}, {\"country\": \"Lebanon\", \"income\": 17050, \"health\": 78.5, \"population\": 5850743, \"cluster\": 1}, {\"country\": \"Lesotho\", \"income\": 2598, \"health\": 48.5, \"population\": 2135022, \"cluster\": 0}, {\"country\": \"Liberia\", \"income\": 958, \"health\": 63.9, \"population\": 4503438, \"cluster\": 0}, {\"country\": \"Libya\", \"income\": 17261, \"health\": 76.2, \"population\": 6278438, \"cluster\": 1}, {\"country\": \"Lithuania\", \"income\": 26665, \"health\": 75.4, \"population\": 2878405, \"cluster\": 1}, {\"country\": \"Luxembourg\", \"income\": 88314, \"health\": 81.1, \"population\": 567110, \"cluster\": 1}, {\"country\": \"Macedonia, FYR\", \"income\": 12547, \"health\": 77.0, \"population\": 2078453, \"cluster\": 1}, {\"country\": \"Madagascar\", \"income\": 1400, \"health\": 64.7, \"population\": 24235390, \"cluster\": 0}, {\"country\": \"Malawi\", \"income\": 799, \"health\": 60.22, \"population\": 17215232, \"cluster\": 0}, {\"country\": \"Malaysia\", \"income\": 24320, \"health\": 75.1, \"population\": 30331007, \"cluster\": 1}, {\"country\": \"Maldives\", \"income\": 14408, \"health\": 79.5, \"population\": 363657, \"cluster\": 1}, {\"country\": \"Mali\", \"income\": 1684, \"health\": 57.6, \"population\": 17599694, \"cluster\": 0}, {\"country\": \"Malta\", \"income\": 30265, \"health\": 82.1, \"population\": 418670, \"cluster\": 1}, {\"country\": \"Marshall Islands\", \"income\": 3661, \"health\": 65.1, \"population\": 52993, \"cluster\": 0}, {\"country\": \"Mauritania\", \"income\": 3877, \"health\": 65.7, \"population\": 4067564, \"cluster\": 0}, {\"country\": \"Mauritius\", \"income\": 18350, \"health\": 73.9, \"population\": 1273212, \"cluster\": 1}, {\"country\": \"Mexico\", \"income\": 16850, \"health\": 74.5, \"population\": 127017224, \"cluster\": 1}, {\"country\": \"Micronesia, Fed. Sts.\", \"income\": 3510, \"health\": 67.0, \"population\": 104460, \"cluster\": 0}, {\"country\": \"Moldova\", \"income\": 4896, \"health\": 72.7, \"population\": 4068897, \"cluster\": 0}, {\"country\": \"Mongolia\", \"income\": 11819, \"health\": 65.3, \"population\": 2959134, \"cluster\": 0}, {\"country\": \"Montenegro\", \"income\": 14833, \"health\": 75.8, \"population\": 625781, \"cluster\": 1}, {\"country\": \"Morocco\", \"income\": 7319, \"health\": 74.7, \"population\": 34377511, \"cluster\": 0}, {\"country\": \"Mozambique\", \"income\": 1176, \"health\": 56.4, \"population\": 27977863, \"cluster\": 0}, {\"country\": \"Myanmar\", \"income\": 4012, \"health\": 67.9, \"population\": 53897154, \"cluster\": 0}, {\"country\": \"Namibia\", \"income\": 10040, \"health\": 61.0, \"population\": 2458830, \"cluster\": 0}, {\"country\": \"Nepal\", \"income\": 2352, \"health\": 71.2, \"population\": 28513700, \"cluster\": 0}, {\"country\": \"Netherlands\", \"income\": 45784, \"health\": 80.6, \"population\": 16924929, \"cluster\": 1}, {\"country\": \"New Zealand\", \"income\": 34186, \"health\": 80.6, \"population\": 4528526, \"cluster\": 1}, {\"country\": \"Nicaragua\", \"income\": 4712, \"health\": 76.8, \"population\": 6082032, \"cluster\": 1}, {\"country\": \"Niger\", \"income\": 943, \"health\": 62.2, \"population\": 19899120, \"cluster\": 0}, {\"country\": \"Nigeria\", \"income\": 5727, \"health\": 61.33, \"population\": 182201962, \"cluster\": 0}, {\"country\": \"North Korea\", \"income\": 1390, \"health\": 71.4, \"population\": 25155317, \"cluster\": 0}, {\"country\": \"Norway\", \"income\": 64304, \"health\": 81.6, \"population\": 5210967, \"cluster\": 1}, {\"country\": \"Oman\", \"income\": 48226, \"health\": 75.7, \"population\": 4490541, \"cluster\": 1}, {\"country\": \"Pakistan\", \"income\": 4743, \"health\": 66.5, \"population\": 188924874, \"cluster\": 0}, {\"country\": \"Panama\", \"income\": 20485, \"health\": 78.2, \"population\": 3929141, \"cluster\": 1}, {\"country\": \"Papua New Guinea\", \"income\": 2529, \"health\": 60.6, \"population\": 7619321, \"cluster\": 0}, {\"country\": \"Paraguay\", \"income\": 8219, \"health\": 73.9, \"population\": 6639123, \"cluster\": 0}, {\"country\": \"Peru\", \"income\": 11903, \"health\": 77.5, \"population\": 31376670, \"cluster\": 1}, {\"country\": \"Philippines\", \"income\": 6876, \"health\": 70.2, \"population\": 100699395, \"cluster\": 0}, {\"country\": \"Poland\", \"income\": 24787, \"health\": 77.3, \"population\": 38611794, \"cluster\": 1}, {\"country\": \"Portugal\", \"income\": 26437, \"health\": 79.8, \"population\": 10349803, \"cluster\": 1}, {\"country\": \"Qatar\", \"income\": 132877, \"health\": 82.0, \"population\": 2235355, \"cluster\": 1}, {\"country\": \"Romania\", \"income\": 19203, \"health\": 76.8, \"population\": 19511324, \"cluster\": 1}, {\"country\": \"Russia\", \"income\": 23038, \"health\": 73.13, \"population\": 143456918, \"cluster\": 1}, {\"country\": \"Rwanda\", \"income\": 1549, \"health\": 66.53, \"population\": 11609666, \"cluster\": 0}, {\"country\": \"Samoa\", \"income\": 5558, \"health\": 72.2, \"population\": 193228, \"cluster\": 0}, {\"country\": \"Sao Tome and Principe\", \"income\": 3003, \"health\": 68.8, \"population\": 190344, \"cluster\": 0}, {\"country\": \"Saudi Arabia\", \"income\": 52469, \"health\": 78.1, \"population\": 31540372, \"cluster\": 1}, {\"country\": \"Senegal\", \"income\": 2251, \"health\": 66.1, \"population\": 15129273, \"cluster\": 0}, {\"country\": \"Serbia\", \"income\": 12908, \"health\": 78.1, \"population\": 8850975, \"cluster\": 1}, {\"country\": \"Seychelles\", \"income\": 25684, \"health\": 73.7, \"population\": 96471, \"cluster\": 1}, {\"country\": \"Sierra Leone\", \"income\": 2085, \"health\": 58.5, \"population\": 6453184, \"cluster\": 0}, {\"country\": \"Singapore\", \"income\": 80794, \"health\": 82.1, \"population\": 5603740, \"cluster\": 1}, {\"country\": \"Slovak Republic\", \"income\": 27204, \"health\": 76.4, \"population\": 5426258, \"cluster\": 1}, {\"country\": \"Slovenia\", \"income\": 28550, \"health\": 80.2, \"population\": 2067526, \"cluster\": 1}, {\"country\": \"Solomon Islands\", \"income\": 2047, \"health\": 64.1, \"population\": 583591, \"cluster\": 0}, {\"country\": \"Somalia\", \"income\": 624, \"health\": 58.7, \"population\": 10787104, \"cluster\": 0}, {\"country\": \"South Africa\", \"income\": 12509, \"health\": 63.72, \"population\": 54490406, \"cluster\": 0}, {\"country\": \"South Korea\", \"income\": 34644, \"health\": 80.7, \"population\": 50293439, \"cluster\": 1}, {\"country\": \"South Sudan\", \"income\": 3047, \"health\": 58.0, \"population\": 12339812, \"cluster\": 0}, {\"country\": \"Spain\", \"income\": 32979, \"health\": 81.7, \"population\": 46121699, \"cluster\": 1}, {\"country\": \"Sri Lanka\", \"income\": 10624, \"health\": 76.5, \"population\": 20715010, \"cluster\": 1}, {\"country\": \"St. Lucia\", \"income\": 9997, \"health\": 74.5, \"population\": 184999, \"cluster\": 1}, {\"country\": \"St. Vincent and the Grenadines\", \"income\": 10435, \"health\": 72.9, \"population\": 109462, \"cluster\": 0}, {\"country\": \"Sudan\", \"income\": 3975, \"health\": 69.5, \"population\": 40234882, \"cluster\": 0}, {\"country\": \"Suriname\", \"income\": 17125, \"health\": 70.5, \"population\": 542975, \"cluster\": 0}, {\"country\": \"Swaziland\", \"income\": 6095, \"health\": 51.5, \"population\": 1286970, \"cluster\": 0}, {\"country\": \"Sweden\", \"income\": 44892, \"health\": 82.0, \"population\": 9779426, \"cluster\": 1}, {\"country\": \"Switzerland\", \"income\": 56118, \"health\": 82.9, \"population\": 8298663, \"cluster\": 1}, {\"country\": \"Syria\", \"income\": 4637, \"health\": 70.26, \"population\": 18502413, \"cluster\": 0}, {\"country\": \"Tajikistan\", \"income\": 2582, \"health\": 71.0, \"population\": 8481855, \"cluster\": 0}, {\"country\": \"Tanzania\", \"income\": 2571, \"health\": 63.43, \"population\": 53470420, \"cluster\": 0}, {\"country\": \"Thailand\", \"income\": 14512, \"health\": 75.1, \"population\": 67959359, \"cluster\": 1}, {\"country\": \"Timor-Leste\", \"income\": 2086, \"health\": 72.4, \"population\": 1184765, \"cluster\": 0}, {\"country\": \"Togo\", \"income\": 1433, \"health\": 64.23, \"population\": 7304578, \"cluster\": 0}, {\"country\": \"Tonga\", \"income\": 5069, \"health\": 70.5, \"population\": 106170, \"cluster\": 0}, {\"country\": \"Trinidad and Tobago\", \"income\": 30113, \"health\": 71.4, \"population\": 1360088, \"cluster\": 1}, {\"country\": \"Tunisia\", \"income\": 11126, \"health\": 77.3, \"population\": 11253554, \"cluster\": 1}, {\"country\": \"Turkey\", \"income\": 19360, \"health\": 76.5, \"population\": 78665830, \"cluster\": 1}, {\"country\": \"Turkmenistan\", \"income\": 15865, \"health\": 67.9, \"population\": 5373502, \"cluster\": 0}, {\"country\": \"Uganda\", \"income\": 1680, \"health\": 60.8, \"population\": 39032383, \"cluster\": 0}, {\"country\": \"Ukraine\", \"income\": 8449, \"health\": 72.1, \"population\": 44823765, \"cluster\": 0}, {\"country\": \"United Arab Emirates\", \"income\": 60749, \"health\": 76.6, \"population\": 9156963, \"cluster\": 1}, {\"country\": \"United Kingdom\", \"income\": 38225, \"health\": 81.4, \"population\": 64715810, \"cluster\": 1}, {\"country\": \"United States\", \"income\": 53354, \"health\": 79.1, \"population\": 321773631, \"cluster\": 1}, {\"country\": \"Uruguay\", \"income\": 20438, \"health\": 77.3, \"population\": 3431555, \"cluster\": 1}, {\"country\": \"Uzbekistan\", \"income\": 5598, \"health\": 70.1, \"population\": 29893488, \"cluster\": 0}, {\"country\": \"Vanuatu\", \"income\": 2912, \"health\": 65.0, \"population\": 264652, \"cluster\": 0}, {\"country\": \"Venezuela\", \"income\": 15753, \"health\": 75.8, \"population\": 31108083, \"cluster\": 1}, {\"country\": \"Vietnam\", \"income\": 5623, \"health\": 76.5, \"population\": 93447601, \"cluster\": 1}, {\"country\": \"West Bank and Gaza\", \"income\": 4319, \"health\": 75.2, \"population\": 4668466, \"cluster\": 0}, {\"country\": \"Yemen\", \"income\": 3887, \"health\": 67.6, \"population\": 26832215, \"cluster\": 0}, {\"country\": \"Zambia\", \"income\": 4034, \"health\": 58.96, \"population\": 16211767, \"cluster\": 0}, {\"country\": \"Zimbabwe\", \"income\": 1801, \"health\": 60.01, \"population\": 15602751, \"cluster\": 0}]}}, {\"mode\": \"vega-lite\"});\n",
       "</script>"
      ],
      "text/plain": [
       "alt.RepeatChart(...)"
      ]
     },
     "execution_count": 68,
     "metadata": {},
     "output_type": "execute_result"
    }
   ],
   "source": [
    "display( gapminder.describe().T)\n",
    "alt.Chart(gapminder).mark_circle().encode(\n",
    "    alt.X(alt.repeat(\"column\"),type=\"quantitative\"),\n",
    "    alt.Y(alt.repeat(\"row\"),type=\"quantitative\")\n",
    ").properties(\n",
    "    width=150,\n",
    "    height=150\n",
    ").repeat(\n",
    "    row=['income', 'health', 'population'],\n",
    "    column=['population', 'health', 'income']\n",
    ").interactive()"
   ]
  },
  {
   "cell_type": "markdown",
   "metadata": {},
   "source": [
    "__Pregunta:__ ¿Hay alguna variable que te entregue indicios a simple vista donde se puedan separar países en grupos?\n",
    "\n",
    "__Respuesta:__ # FIX ME PLEASE #"
   ]
  },
  {
   "cell_type": "markdown",
   "metadata": {},
   "source": [
    "## Ejercicio 2\n",
    "\n",
    "(1 pto.)\n",
    "\n",
    "Aplicar un escalamiento a los datos antes de aplicar nuestro algoritmo de clustering. Para ello, definir la variable `X_raw` que corresponde a un `numpy.array` con los valores del dataframe `gapminder` en las columnas _income_, _health_ y  _population_. Luego, definir la variable `X` que deben ser los datos escalados de `X_raw`."
   ]
  },
  {
   "cell_type": "code",
   "execution_count": 15,
   "metadata": {},
   "outputs": [],
   "source": [
    "from sklearn.preprocessing import StandardScaler\n",
    "import numpy as np"
   ]
  },
  {
   "cell_type": "code",
   "execution_count": 33,
   "metadata": {},
   "outputs": [],
   "source": [
    "X_raw = np.array(gapminder.iloc[:,1:])\n",
    "X = StandardScaler().fit_transform(X_raw)"
   ]
  },
  {
   "cell_type": "markdown",
   "metadata": {},
   "source": [
    "## Ejercicio 3\n",
    "\n",
    "(1 pto.)\n",
    "\n",
    "Definir un _estimator_ `KMeans` con `k=3` y `random_state=42`, luego ajustar con `X` y finalmente, agregar los _labels_ obtenidos a una nueva columna del dataframe `gapminder` llamada `cluster`. Finalmente, realizar el mismo gráfico del principio pero coloreado por los clusters obtenidos.\n"
   ]
  },
  {
   "cell_type": "code",
   "execution_count": 34,
   "metadata": {},
   "outputs": [],
   "source": [
    "from sklearn.cluster import KMeans"
   ]
  },
  {
   "cell_type": "code",
   "execution_count": 71,
   "metadata": {},
   "outputs": [],
   "source": [
    "k = 3\n",
    "kmeans = KMeans(n_clusters=k,random_state=42)\n",
    "kmeans.fit(X)\n",
    "clusters = kmeans.labels_\n",
    "gapminder[\"cluster\"] = clusters"
   ]
  },
  {
   "cell_type": "code",
   "execution_count": 73,
   "metadata": {},
   "outputs": [
    {
     "data": {
      "text/html": [
       "\n",
       "<div id=\"altair-viz-a5f712c3557549af912575dba492faa6\"></div>\n",
       "<script type=\"text/javascript\">\n",
       "  (function(spec, embedOpt){\n",
       "    let outputDiv = document.currentScript.previousElementSibling;\n",
       "    if (outputDiv.id !== \"altair-viz-a5f712c3557549af912575dba492faa6\") {\n",
       "      outputDiv = document.getElementById(\"altair-viz-a5f712c3557549af912575dba492faa6\");\n",
       "    }\n",
       "    const paths = {\n",
       "      \"vega\": \"https://cdn.jsdelivr.net/npm//vega@5?noext\",\n",
       "      \"vega-lib\": \"https://cdn.jsdelivr.net/npm//vega-lib?noext\",\n",
       "      \"vega-lite\": \"https://cdn.jsdelivr.net/npm//vega-lite@4.8.1?noext\",\n",
       "      \"vega-embed\": \"https://cdn.jsdelivr.net/npm//vega-embed@6?noext\",\n",
       "    };\n",
       "\n",
       "    function loadScript(lib) {\n",
       "      return new Promise(function(resolve, reject) {\n",
       "        var s = document.createElement('script');\n",
       "        s.src = paths[lib];\n",
       "        s.async = true;\n",
       "        s.onload = () => resolve(paths[lib]);\n",
       "        s.onerror = () => reject(`Error loading script: ${paths[lib]}`);\n",
       "        document.getElementsByTagName(\"head\")[0].appendChild(s);\n",
       "      });\n",
       "    }\n",
       "\n",
       "    function showError(err) {\n",
       "      outputDiv.innerHTML = `<div class=\"error\" style=\"color:red;\">${err}</div>`;\n",
       "      throw err;\n",
       "    }\n",
       "\n",
       "    function displayChart(vegaEmbed) {\n",
       "      vegaEmbed(outputDiv, spec, embedOpt)\n",
       "        .catch(err => showError(`Javascript Error: ${err.message}<br>This usually means there's a typo in your chart specification. See the javascript console for the full traceback.`));\n",
       "    }\n",
       "\n",
       "    if(typeof define === \"function\" && define.amd) {\n",
       "      requirejs.config({paths});\n",
       "      require([\"vega-embed\"], displayChart, err => showError(`Error loading script: ${err.message}`));\n",
       "    } else if (typeof vegaEmbed === \"function\") {\n",
       "      displayChart(vegaEmbed);\n",
       "    } else {\n",
       "      loadScript(\"vega\")\n",
       "        .then(() => loadScript(\"vega-lite\"))\n",
       "        .then(() => loadScript(\"vega-embed\"))\n",
       "        .catch(showError)\n",
       "        .then(() => displayChart(vegaEmbed));\n",
       "    }\n",
       "  })({\"config\": {\"background\": \"white\", \"view\": {\"continuousWidth\": 400, \"continuousHeight\": 300}}, \"repeat\": {\"column\": [\"population\", \"health\", \"income\"], \"row\": [\"income\", \"health\", \"population\"]}, \"spec\": {\"data\": {\"name\": \"data-e19b33869877c38715e8e2246b54c119\"}, \"mark\": \"circle\", \"encoding\": {\"color\": {\"type\": \"nominal\", \"field\": \"cluster\"}, \"x\": {\"type\": \"quantitative\", \"field\": {\"repeat\": \"column\"}}, \"y\": {\"type\": \"quantitative\", \"field\": {\"repeat\": \"row\"}}}, \"height\": 150, \"selection\": {\"selector031\": {\"type\": \"interval\", \"bind\": \"scales\", \"encodings\": [\"x\", \"y\"]}}, \"width\": 150}, \"$schema\": \"https://vega.github.io/schema/vega-lite/v4.8.1.json\", \"datasets\": {\"data-e19b33869877c38715e8e2246b54c119\": [{\"country\": \"Afghanistan\", \"income\": 1925, \"health\": 57.63, \"population\": 32526562, \"cluster\": 0}, {\"country\": \"Albania\", \"income\": 10620, \"health\": 76.0, \"population\": 2896679, \"cluster\": 1}, {\"country\": \"Algeria\", \"income\": 13434, \"health\": 76.5, \"population\": 39666519, \"cluster\": 1}, {\"country\": \"Andorra\", \"income\": 46577, \"health\": 84.1, \"population\": 70473, \"cluster\": 1}, {\"country\": \"Angola\", \"income\": 7615, \"health\": 61.0, \"population\": 25021974, \"cluster\": 0}, {\"country\": \"Antigua and Barbuda\", \"income\": 21049, \"health\": 75.2, \"population\": 91818, \"cluster\": 1}, {\"country\": \"Argentina\", \"income\": 17344, \"health\": 76.2, \"population\": 43416755, \"cluster\": 1}, {\"country\": \"Armenia\", \"income\": 7763, \"health\": 74.4, \"population\": 3017712, \"cluster\": 0}, {\"country\": \"Australia\", \"income\": 44056, \"health\": 81.8, \"population\": 23968973, \"cluster\": 1}, {\"country\": \"Austria\", \"income\": 44401, \"health\": 81.0, \"population\": 8544586, \"cluster\": 1}, {\"country\": \"Azerbaijan\", \"income\": 16986, \"health\": 72.9, \"population\": 9753968, \"cluster\": 1}, {\"country\": \"Bahamas\", \"income\": 22818, \"health\": 72.3, \"population\": 388019, \"cluster\": 1}, {\"country\": \"Bahrain\", \"income\": 44138, \"health\": 79.2, \"population\": 1377237, \"cluster\": 1}, {\"country\": \"Bangladesh\", \"income\": 3161, \"health\": 70.1, \"population\": 160995642, \"cluster\": 0}, {\"country\": \"Barbados\", \"income\": 12984, \"health\": 75.8, \"population\": 284215, \"cluster\": 1}, {\"country\": \"Belarus\", \"income\": 17415, \"health\": 70.4, \"population\": 9495826, \"cluster\": 0}, {\"country\": \"Belgium\", \"income\": 41240, \"health\": 80.4, \"population\": 11299192, \"cluster\": 1}, {\"country\": \"Belize\", \"income\": 8501, \"health\": 70.0, \"population\": 359287, \"cluster\": 0}, {\"country\": \"Benin\", \"income\": 1830, \"health\": 65.5, \"population\": 10879829, \"cluster\": 0}, {\"country\": \"Bhutan\", \"income\": 7983, \"health\": 70.2, \"population\": 774830, \"cluster\": 0}, {\"country\": \"Bolivia\", \"income\": 6295, \"health\": 72.3, \"population\": 10724705, \"cluster\": 0}, {\"country\": \"Bosnia and Herzegovina\", \"income\": 9833, \"health\": 77.9, \"population\": 3810416, \"cluster\": 1}, {\"country\": \"Botswana\", \"income\": 17196, \"health\": 66.4, \"population\": 2262485, \"cluster\": 0}, {\"country\": \"Brazil\", \"income\": 15441, \"health\": 75.6, \"population\": 207847528, \"cluster\": 1}, {\"country\": \"Brunei\", \"income\": 73003, \"health\": 78.7, \"population\": 423188, \"cluster\": 1}, {\"country\": \"Bulgaria\", \"income\": 16371, \"health\": 74.9, \"population\": 7149787, \"cluster\": 1}, {\"country\": \"Burkina Faso\", \"income\": 1654, \"health\": 62.8, \"population\": 18105570, \"cluster\": 0}, {\"country\": \"Burundi\", \"income\": 777, \"health\": 60.4, \"population\": 11178921, \"cluster\": 0}, {\"country\": \"Cambodia\", \"income\": 3267, \"health\": 68.4, \"population\": 15577899, \"cluster\": 0}, {\"country\": \"Cameroon\", \"income\": 2897, \"health\": 59.5, \"population\": 23344179, \"cluster\": 0}, {\"country\": \"Canada\", \"income\": 43294, \"health\": 81.7, \"population\": 35939927, \"cluster\": 1}, {\"country\": \"Cape Verde\", \"income\": 6514, \"health\": 74.6, \"population\": 520502, \"cluster\": 0}, {\"country\": \"Central African Republic\", \"income\": 599, \"health\": 53.8, \"population\": 4900274, \"cluster\": 0}, {\"country\": \"Chad\", \"income\": 2191, \"health\": 57.7, \"population\": 14037472, \"cluster\": 0}, {\"country\": \"Chile\", \"income\": 22465, \"health\": 79.3, \"population\": 17948141, \"cluster\": 1}, {\"country\": \"China\", \"income\": 13334, \"health\": 76.9, \"population\": 1376048943, \"cluster\": 2}, {\"country\": \"Colombia\", \"income\": 12761, \"health\": 75.8, \"population\": 48228704, \"cluster\": 1}, {\"country\": \"Comoros\", \"income\": 1472, \"health\": 64.1, \"population\": 788474, \"cluster\": 0}, {\"country\": \"Congo, Dem. Rep.\", \"income\": 809, \"health\": 58.3, \"population\": 77266814, \"cluster\": 0}, {\"country\": \"Congo, Rep.\", \"income\": 6220, \"health\": 61.9, \"population\": 4620330, \"cluster\": 0}, {\"country\": \"Costa Rica\", \"income\": 14132, \"health\": 80.0, \"population\": 4807850, \"cluster\": 1}, {\"country\": \"Cote d'Ivoire\", \"income\": 3491, \"health\": 60.33, \"population\": 22701556, \"cluster\": 0}, {\"country\": \"Croatia\", \"income\": 20260, \"health\": 78.0, \"population\": 4240317, \"cluster\": 1}, {\"country\": \"Cuba\", \"income\": 21291, \"health\": 78.5, \"population\": 11389562, \"cluster\": 1}, {\"country\": \"Cyprus\", \"income\": 29797, \"health\": 82.6, \"population\": 1165300, \"cluster\": 1}, {\"country\": \"Czech Republic\", \"income\": 29437, \"health\": 78.6, \"population\": 10543186, \"cluster\": 1}, {\"country\": \"Denmark\", \"income\": 43495, \"health\": 80.1, \"population\": 5669081, \"cluster\": 1}, {\"country\": \"Djibouti\", \"income\": 3139, \"health\": 64.63, \"population\": 887861, \"cluster\": 0}, {\"country\": \"Dominica\", \"income\": 10503, \"health\": 74.6, \"population\": 72680, \"cluster\": 1}, {\"country\": \"Dominican Republic\", \"income\": 12837, \"health\": 73.8, \"population\": 10528391, \"cluster\": 1}, {\"country\": \"Ecuador\", \"income\": 10996, \"health\": 75.2, \"population\": 16144363, \"cluster\": 1}, {\"country\": \"Egypt\", \"income\": 11031, \"health\": 71.3, \"population\": 91508084, \"cluster\": 0}, {\"country\": \"El Salvador\", \"income\": 7776, \"health\": 74.1, \"population\": 6126583, \"cluster\": 0}, {\"country\": \"Equatorial Guinea\", \"income\": 31087, \"health\": 60.63, \"population\": 845060, \"cluster\": 0}, {\"country\": \"Eritrea\", \"income\": 1129, \"health\": 62.9, \"population\": 5227791, \"cluster\": 0}, {\"country\": \"Estonia\", \"income\": 26812, \"health\": 76.8, \"population\": 1312558, \"cluster\": 1}, {\"country\": \"Ethiopia\", \"income\": 1520, \"health\": 63.6, \"population\": 99390750, \"cluster\": 0}, {\"country\": \"Fiji\", \"income\": 7925, \"health\": 66.3, \"population\": 892145, \"cluster\": 0}, {\"country\": \"Finland\", \"income\": 38923, \"health\": 80.8, \"population\": 5503457, \"cluster\": 1}, {\"country\": \"France\", \"income\": 37599, \"health\": 81.9, \"population\": 64395345, \"cluster\": 1}, {\"country\": \"Gabon\", \"income\": 18627, \"health\": 60.53, \"population\": 1725292, \"cluster\": 0}, {\"country\": \"Gambia\", \"income\": 1644, \"health\": 65.1, \"population\": 1990924, \"cluster\": 0}, {\"country\": \"Georgia\", \"income\": 7474, \"health\": 73.3, \"population\": 3999812, \"cluster\": 0}, {\"country\": \"Germany\", \"income\": 44053, \"health\": 81.1, \"population\": 80688545, \"cluster\": 1}, {\"country\": \"Ghana\", \"income\": 4099, \"health\": 65.5, \"population\": 27409893, \"cluster\": 0}, {\"country\": \"Greece\", \"income\": 25430, \"health\": 79.8, \"population\": 10954617, \"cluster\": 1}, {\"country\": \"Grenada\", \"income\": 11593, \"health\": 71.7, \"population\": 106825, \"cluster\": 0}, {\"country\": \"Guatemala\", \"income\": 7279, \"health\": 73.1, \"population\": 16342897, \"cluster\": 0}, {\"country\": \"Guinea\", \"income\": 1225, \"health\": 60.8, \"population\": 12608590, \"cluster\": 0}, {\"country\": \"Guinea-Bissau\", \"income\": 1386, \"health\": 53.4, \"population\": 1844325, \"cluster\": 0}, {\"country\": \"Guyana\", \"income\": 6816, \"health\": 64.4, \"population\": 767085, \"cluster\": 0}, {\"country\": \"Haiti\", \"income\": 1710, \"health\": 65.3, \"population\": 10711067, \"cluster\": 0}, {\"country\": \"Honduras\", \"income\": 4270, \"health\": 72.4, \"population\": 8075060, \"cluster\": 0}, {\"country\": \"Hungary\", \"income\": 24200, \"health\": 76.2, \"population\": 9855023, \"cluster\": 1}, {\"country\": \"Iceland\", \"income\": 42182, \"health\": 82.8, \"population\": 329425, \"cluster\": 1}, {\"country\": \"India\", \"income\": 5903, \"health\": 66.8, \"population\": 1311050527, \"cluster\": 2}, {\"country\": \"Indonesia\", \"income\": 10504, \"health\": 70.9, \"population\": 257563815, \"cluster\": 0}, {\"country\": \"Iran\", \"income\": 15573, \"health\": 78.5, \"population\": 79109272, \"cluster\": 1}, {\"country\": \"Iraq\", \"income\": 14646, \"health\": 72.1, \"population\": 36423395, \"cluster\": 0}, {\"country\": \"Ireland\", \"income\": 47758, \"health\": 80.4, \"population\": 4688465, \"cluster\": 1}, {\"country\": \"Israel\", \"income\": 31590, \"health\": 82.4, \"population\": 8064036, \"cluster\": 1}, {\"country\": \"Italy\", \"income\": 33297, \"health\": 82.1, \"population\": 59797685, \"cluster\": 1}, {\"country\": \"Jamaica\", \"income\": 8606, \"health\": 75.5, \"population\": 2793335, \"cluster\": 1}, {\"country\": \"Japan\", \"income\": 36162, \"health\": 83.5, \"population\": 126573481, \"cluster\": 1}, {\"country\": \"Jordan\", \"income\": 11752, \"health\": 78.3, \"population\": 7594547, \"cluster\": 1}, {\"country\": \"Kazakhstan\", \"income\": 23468, \"health\": 68.2, \"population\": 17625226, \"cluster\": 0}, {\"country\": \"Kenya\", \"income\": 2898, \"health\": 66.63, \"population\": 46050302, \"cluster\": 0}, {\"country\": \"Kiribati\", \"income\": 1824, \"health\": 62.4, \"population\": 112423, \"cluster\": 0}, {\"country\": \"Kuwait\", \"income\": 82633, \"health\": 80.7, \"population\": 3892115, \"cluster\": 1}, {\"country\": \"Kyrgyz Republic\", \"income\": 3245, \"health\": 69.0, \"population\": 5939962, \"cluster\": 0}, {\"country\": \"Lao\", \"income\": 5212, \"health\": 66.4, \"population\": 6802023, \"cluster\": 0}, {\"country\": \"Latvia\", \"income\": 23282, \"health\": 75.7, \"population\": 1970503, \"cluster\": 1}, {\"country\": \"Lebanon\", \"income\": 17050, \"health\": 78.5, \"population\": 5850743, \"cluster\": 1}, {\"country\": \"Lesotho\", \"income\": 2598, \"health\": 48.5, \"population\": 2135022, \"cluster\": 0}, {\"country\": \"Liberia\", \"income\": 958, \"health\": 63.9, \"population\": 4503438, \"cluster\": 0}, {\"country\": \"Libya\", \"income\": 17261, \"health\": 76.2, \"population\": 6278438, \"cluster\": 1}, {\"country\": \"Lithuania\", \"income\": 26665, \"health\": 75.4, \"population\": 2878405, \"cluster\": 1}, {\"country\": \"Luxembourg\", \"income\": 88314, \"health\": 81.1, \"population\": 567110, \"cluster\": 1}, {\"country\": \"Macedonia, FYR\", \"income\": 12547, \"health\": 77.0, \"population\": 2078453, \"cluster\": 1}, {\"country\": \"Madagascar\", \"income\": 1400, \"health\": 64.7, \"population\": 24235390, \"cluster\": 0}, {\"country\": \"Malawi\", \"income\": 799, \"health\": 60.22, \"population\": 17215232, \"cluster\": 0}, {\"country\": \"Malaysia\", \"income\": 24320, \"health\": 75.1, \"population\": 30331007, \"cluster\": 1}, {\"country\": \"Maldives\", \"income\": 14408, \"health\": 79.5, \"population\": 363657, \"cluster\": 1}, {\"country\": \"Mali\", \"income\": 1684, \"health\": 57.6, \"population\": 17599694, \"cluster\": 0}, {\"country\": \"Malta\", \"income\": 30265, \"health\": 82.1, \"population\": 418670, \"cluster\": 1}, {\"country\": \"Marshall Islands\", \"income\": 3661, \"health\": 65.1, \"population\": 52993, \"cluster\": 0}, {\"country\": \"Mauritania\", \"income\": 3877, \"health\": 65.7, \"population\": 4067564, \"cluster\": 0}, {\"country\": \"Mauritius\", \"income\": 18350, \"health\": 73.9, \"population\": 1273212, \"cluster\": 1}, {\"country\": \"Mexico\", \"income\": 16850, \"health\": 74.5, \"population\": 127017224, \"cluster\": 1}, {\"country\": \"Micronesia, Fed. Sts.\", \"income\": 3510, \"health\": 67.0, \"population\": 104460, \"cluster\": 0}, {\"country\": \"Moldova\", \"income\": 4896, \"health\": 72.7, \"population\": 4068897, \"cluster\": 0}, {\"country\": \"Mongolia\", \"income\": 11819, \"health\": 65.3, \"population\": 2959134, \"cluster\": 0}, {\"country\": \"Montenegro\", \"income\": 14833, \"health\": 75.8, \"population\": 625781, \"cluster\": 1}, {\"country\": \"Morocco\", \"income\": 7319, \"health\": 74.7, \"population\": 34377511, \"cluster\": 0}, {\"country\": \"Mozambique\", \"income\": 1176, \"health\": 56.4, \"population\": 27977863, \"cluster\": 0}, {\"country\": \"Myanmar\", \"income\": 4012, \"health\": 67.9, \"population\": 53897154, \"cluster\": 0}, {\"country\": \"Namibia\", \"income\": 10040, \"health\": 61.0, \"population\": 2458830, \"cluster\": 0}, {\"country\": \"Nepal\", \"income\": 2352, \"health\": 71.2, \"population\": 28513700, \"cluster\": 0}, {\"country\": \"Netherlands\", \"income\": 45784, \"health\": 80.6, \"population\": 16924929, \"cluster\": 1}, {\"country\": \"New Zealand\", \"income\": 34186, \"health\": 80.6, \"population\": 4528526, \"cluster\": 1}, {\"country\": \"Nicaragua\", \"income\": 4712, \"health\": 76.8, \"population\": 6082032, \"cluster\": 1}, {\"country\": \"Niger\", \"income\": 943, \"health\": 62.2, \"population\": 19899120, \"cluster\": 0}, {\"country\": \"Nigeria\", \"income\": 5727, \"health\": 61.33, \"population\": 182201962, \"cluster\": 0}, {\"country\": \"North Korea\", \"income\": 1390, \"health\": 71.4, \"population\": 25155317, \"cluster\": 0}, {\"country\": \"Norway\", \"income\": 64304, \"health\": 81.6, \"population\": 5210967, \"cluster\": 1}, {\"country\": \"Oman\", \"income\": 48226, \"health\": 75.7, \"population\": 4490541, \"cluster\": 1}, {\"country\": \"Pakistan\", \"income\": 4743, \"health\": 66.5, \"population\": 188924874, \"cluster\": 0}, {\"country\": \"Panama\", \"income\": 20485, \"health\": 78.2, \"population\": 3929141, \"cluster\": 1}, {\"country\": \"Papua New Guinea\", \"income\": 2529, \"health\": 60.6, \"population\": 7619321, \"cluster\": 0}, {\"country\": \"Paraguay\", \"income\": 8219, \"health\": 73.9, \"population\": 6639123, \"cluster\": 0}, {\"country\": \"Peru\", \"income\": 11903, \"health\": 77.5, \"population\": 31376670, \"cluster\": 1}, {\"country\": \"Philippines\", \"income\": 6876, \"health\": 70.2, \"population\": 100699395, \"cluster\": 0}, {\"country\": \"Poland\", \"income\": 24787, \"health\": 77.3, \"population\": 38611794, \"cluster\": 1}, {\"country\": \"Portugal\", \"income\": 26437, \"health\": 79.8, \"population\": 10349803, \"cluster\": 1}, {\"country\": \"Qatar\", \"income\": 132877, \"health\": 82.0, \"population\": 2235355, \"cluster\": 1}, {\"country\": \"Romania\", \"income\": 19203, \"health\": 76.8, \"population\": 19511324, \"cluster\": 1}, {\"country\": \"Russia\", \"income\": 23038, \"health\": 73.13, \"population\": 143456918, \"cluster\": 1}, {\"country\": \"Rwanda\", \"income\": 1549, \"health\": 66.53, \"population\": 11609666, \"cluster\": 0}, {\"country\": \"Samoa\", \"income\": 5558, \"health\": 72.2, \"population\": 193228, \"cluster\": 0}, {\"country\": \"Sao Tome and Principe\", \"income\": 3003, \"health\": 68.8, \"population\": 190344, \"cluster\": 0}, {\"country\": \"Saudi Arabia\", \"income\": 52469, \"health\": 78.1, \"population\": 31540372, \"cluster\": 1}, {\"country\": \"Senegal\", \"income\": 2251, \"health\": 66.1, \"population\": 15129273, \"cluster\": 0}, {\"country\": \"Serbia\", \"income\": 12908, \"health\": 78.1, \"population\": 8850975, \"cluster\": 1}, {\"country\": \"Seychelles\", \"income\": 25684, \"health\": 73.7, \"population\": 96471, \"cluster\": 1}, {\"country\": \"Sierra Leone\", \"income\": 2085, \"health\": 58.5, \"population\": 6453184, \"cluster\": 0}, {\"country\": \"Singapore\", \"income\": 80794, \"health\": 82.1, \"population\": 5603740, \"cluster\": 1}, {\"country\": \"Slovak Republic\", \"income\": 27204, \"health\": 76.4, \"population\": 5426258, \"cluster\": 1}, {\"country\": \"Slovenia\", \"income\": 28550, \"health\": 80.2, \"population\": 2067526, \"cluster\": 1}, {\"country\": \"Solomon Islands\", \"income\": 2047, \"health\": 64.1, \"population\": 583591, \"cluster\": 0}, {\"country\": \"Somalia\", \"income\": 624, \"health\": 58.7, \"population\": 10787104, \"cluster\": 0}, {\"country\": \"South Africa\", \"income\": 12509, \"health\": 63.72, \"population\": 54490406, \"cluster\": 0}, {\"country\": \"South Korea\", \"income\": 34644, \"health\": 80.7, \"population\": 50293439, \"cluster\": 1}, {\"country\": \"South Sudan\", \"income\": 3047, \"health\": 58.0, \"population\": 12339812, \"cluster\": 0}, {\"country\": \"Spain\", \"income\": 32979, \"health\": 81.7, \"population\": 46121699, \"cluster\": 1}, {\"country\": \"Sri Lanka\", \"income\": 10624, \"health\": 76.5, \"population\": 20715010, \"cluster\": 1}, {\"country\": \"St. Lucia\", \"income\": 9997, \"health\": 74.5, \"population\": 184999, \"cluster\": 1}, {\"country\": \"St. Vincent and the Grenadines\", \"income\": 10435, \"health\": 72.9, \"population\": 109462, \"cluster\": 0}, {\"country\": \"Sudan\", \"income\": 3975, \"health\": 69.5, \"population\": 40234882, \"cluster\": 0}, {\"country\": \"Suriname\", \"income\": 17125, \"health\": 70.5, \"population\": 542975, \"cluster\": 0}, {\"country\": \"Swaziland\", \"income\": 6095, \"health\": 51.5, \"population\": 1286970, \"cluster\": 0}, {\"country\": \"Sweden\", \"income\": 44892, \"health\": 82.0, \"population\": 9779426, \"cluster\": 1}, {\"country\": \"Switzerland\", \"income\": 56118, \"health\": 82.9, \"population\": 8298663, \"cluster\": 1}, {\"country\": \"Syria\", \"income\": 4637, \"health\": 70.26, \"population\": 18502413, \"cluster\": 0}, {\"country\": \"Tajikistan\", \"income\": 2582, \"health\": 71.0, \"population\": 8481855, \"cluster\": 0}, {\"country\": \"Tanzania\", \"income\": 2571, \"health\": 63.43, \"population\": 53470420, \"cluster\": 0}, {\"country\": \"Thailand\", \"income\": 14512, \"health\": 75.1, \"population\": 67959359, \"cluster\": 1}, {\"country\": \"Timor-Leste\", \"income\": 2086, \"health\": 72.4, \"population\": 1184765, \"cluster\": 0}, {\"country\": \"Togo\", \"income\": 1433, \"health\": 64.23, \"population\": 7304578, \"cluster\": 0}, {\"country\": \"Tonga\", \"income\": 5069, \"health\": 70.5, \"population\": 106170, \"cluster\": 0}, {\"country\": \"Trinidad and Tobago\", \"income\": 30113, \"health\": 71.4, \"population\": 1360088, \"cluster\": 1}, {\"country\": \"Tunisia\", \"income\": 11126, \"health\": 77.3, \"population\": 11253554, \"cluster\": 1}, {\"country\": \"Turkey\", \"income\": 19360, \"health\": 76.5, \"population\": 78665830, \"cluster\": 1}, {\"country\": \"Turkmenistan\", \"income\": 15865, \"health\": 67.9, \"population\": 5373502, \"cluster\": 0}, {\"country\": \"Uganda\", \"income\": 1680, \"health\": 60.8, \"population\": 39032383, \"cluster\": 0}, {\"country\": \"Ukraine\", \"income\": 8449, \"health\": 72.1, \"population\": 44823765, \"cluster\": 0}, {\"country\": \"United Arab Emirates\", \"income\": 60749, \"health\": 76.6, \"population\": 9156963, \"cluster\": 1}, {\"country\": \"United Kingdom\", \"income\": 38225, \"health\": 81.4, \"population\": 64715810, \"cluster\": 1}, {\"country\": \"United States\", \"income\": 53354, \"health\": 79.1, \"population\": 321773631, \"cluster\": 1}, {\"country\": \"Uruguay\", \"income\": 20438, \"health\": 77.3, \"population\": 3431555, \"cluster\": 1}, {\"country\": \"Uzbekistan\", \"income\": 5598, \"health\": 70.1, \"population\": 29893488, \"cluster\": 0}, {\"country\": \"Vanuatu\", \"income\": 2912, \"health\": 65.0, \"population\": 264652, \"cluster\": 0}, {\"country\": \"Venezuela\", \"income\": 15753, \"health\": 75.8, \"population\": 31108083, \"cluster\": 1}, {\"country\": \"Vietnam\", \"income\": 5623, \"health\": 76.5, \"population\": 93447601, \"cluster\": 1}, {\"country\": \"West Bank and Gaza\", \"income\": 4319, \"health\": 75.2, \"population\": 4668466, \"cluster\": 0}, {\"country\": \"Yemen\", \"income\": 3887, \"health\": 67.6, \"population\": 26832215, \"cluster\": 0}, {\"country\": \"Zambia\", \"income\": 4034, \"health\": 58.96, \"population\": 16211767, \"cluster\": 0}, {\"country\": \"Zimbabwe\", \"income\": 1801, \"health\": 60.01, \"population\": 15602751, \"cluster\": 0}]}}, {\"mode\": \"vega-lite\"});\n",
       "</script>"
      ],
      "text/plain": [
       "alt.RepeatChart(...)"
      ]
     },
     "execution_count": 73,
     "metadata": {},
     "output_type": "execute_result"
    }
   ],
   "source": [
    "alt.Chart(gapminder).mark_circle().encode(\n",
    "    alt.X(alt.repeat(\"column\"),type=\"quantitative\"),\n",
    "    alt.Y(alt.repeat(\"row\"),type=\"quantitative\"),\n",
    "    color=alt.Color('cluster',type=\"nominal\")\n",
    ").properties(\n",
    "    width=150,\n",
    "    height=150\n",
    ").repeat(\n",
    "    row=['income', 'health', 'population'],\n",
    "    column=['population', 'health', 'income']\n",
    ").interactive()"
   ]
  },
  {
   "cell_type": "markdown",
   "metadata": {},
   "source": [
    "## Ejercicio 4\n",
    "\n",
    "(1 pto.)\n",
    "\n",
    "__Regla del codo__\n",
    "\n",
    "__¿Cómo escoger la mejor cantidad de _clusters_?__\n",
    "\n",
    "En este ejercicio hemos utilizado que el número de clusters es igual a 3. El ajuste del modelo siempre será mejor al aumentar el número de clusters, pero ello no significa que el número de clusters sea el apropiado. De hecho, si tenemos que ajustar $n$ puntos, claramente tomar $n$ clusters generaría un ajuste perfecto, pero no permitiría representar si existen realmente agrupaciones de datos.\n",
    "\n",
    "Cuando no se conoce el número de clusters a priori, se utiliza la [regla del codo](https://jarroba.com/seleccion-del-numero-optimo-clusters/), que indica que el número más apropiado es aquel donde \"cambia la pendiente\" de decrecimiento de la la suma de las distancias a los clusters para cada punto, en función del número de clusters.\n",
    "\n",
    "A continuación se provee el código para el caso de clustering sobre los datos estandarizados, leídos directamente de un archivo preparado especialmente.En la línea que se declara `kmeans` dentro del ciclo _for_ debes definir un estimador K-Means, con `k` clusters y `random_state` 42. Recuerda aprovechar de ajustar el modelo en una sola línea."
   ]
  },
  {
   "cell_type": "code",
   "execution_count": 78,
   "metadata": {},
   "outputs": [],
   "source": [
    "elbow = pd.Series(name=\"inertia\", dtype=\"float64\").rename_axis(index=\"k\")\n",
    "for k in range(1, 10):\n",
    "    kmeans = KMeans(n_clusters=k,random_state=42).fit(X)\n",
    "    elbow.loc[k] = kmeans.inertia_ # Inertia: Sum of distances of samples to their closest cluster center\n",
    "elbow = elbow.reset_index()"
   ]
  },
  {
   "cell_type": "code",
   "execution_count": 79,
   "metadata": {},
   "outputs": [
    {
     "data": {
      "text/html": [
       "\n",
       "<div id=\"altair-viz-2a8b4eef92124c5f83beeb2c47a53239\"></div>\n",
       "<script type=\"text/javascript\">\n",
       "  (function(spec, embedOpt){\n",
       "    let outputDiv = document.currentScript.previousElementSibling;\n",
       "    if (outputDiv.id !== \"altair-viz-2a8b4eef92124c5f83beeb2c47a53239\") {\n",
       "      outputDiv = document.getElementById(\"altair-viz-2a8b4eef92124c5f83beeb2c47a53239\");\n",
       "    }\n",
       "    const paths = {\n",
       "      \"vega\": \"https://cdn.jsdelivr.net/npm//vega@5?noext\",\n",
       "      \"vega-lib\": \"https://cdn.jsdelivr.net/npm//vega-lib?noext\",\n",
       "      \"vega-lite\": \"https://cdn.jsdelivr.net/npm//vega-lite@4.8.1?noext\",\n",
       "      \"vega-embed\": \"https://cdn.jsdelivr.net/npm//vega-embed@6?noext\",\n",
       "    };\n",
       "\n",
       "    function loadScript(lib) {\n",
       "      return new Promise(function(resolve, reject) {\n",
       "        var s = document.createElement('script');\n",
       "        s.src = paths[lib];\n",
       "        s.async = true;\n",
       "        s.onload = () => resolve(paths[lib]);\n",
       "        s.onerror = () => reject(`Error loading script: ${paths[lib]}`);\n",
       "        document.getElementsByTagName(\"head\")[0].appendChild(s);\n",
       "      });\n",
       "    }\n",
       "\n",
       "    function showError(err) {\n",
       "      outputDiv.innerHTML = `<div class=\"error\" style=\"color:red;\">${err}</div>`;\n",
       "      throw err;\n",
       "    }\n",
       "\n",
       "    function displayChart(vegaEmbed) {\n",
       "      vegaEmbed(outputDiv, spec, embedOpt)\n",
       "        .catch(err => showError(`Javascript Error: ${err.message}<br>This usually means there's a typo in your chart specification. See the javascript console for the full traceback.`));\n",
       "    }\n",
       "\n",
       "    if(typeof define === \"function\" && define.amd) {\n",
       "      requirejs.config({paths});\n",
       "      require([\"vega-embed\"], displayChart, err => showError(`Error loading script: ${err.message}`));\n",
       "    } else if (typeof vegaEmbed === \"function\") {\n",
       "      displayChart(vegaEmbed);\n",
       "    } else {\n",
       "      loadScript(\"vega\")\n",
       "        .then(() => loadScript(\"vega-lite\"))\n",
       "        .then(() => loadScript(\"vega-embed\"))\n",
       "        .catch(showError)\n",
       "        .then(() => displayChart(vegaEmbed));\n",
       "    }\n",
       "  })({\"config\": {\"background\": \"white\", \"view\": {\"continuousWidth\": 400, \"continuousHeight\": 300}}, \"data\": {\"name\": \"data-e8840d2373b9299704347f1945982fe1\"}, \"mark\": {\"type\": \"line\", \"point\": true}, \"encoding\": {\"x\": {\"type\": \"ordinal\", \"field\": \"k\"}, \"y\": {\"type\": \"quantitative\", \"field\": \"inertia\"}}, \"height\": 600, \"width\": 800, \"$schema\": \"https://vega.github.io/schema/vega-lite/v4.8.1.json\", \"datasets\": {\"data-e8840d2373b9299704347f1945982fe1\": [{\"k\": 1, \"inertia\": 561.0}, {\"k\": 2, \"inertia\": 364.7647420465875}, {\"k\": 3, \"inertia\": 196.34136229738832}, {\"k\": 4, \"inertia\": 109.45663558527373}, {\"k\": 5, \"inertia\": 80.72269980181574}, {\"k\": 6, \"inertia\": 65.54301956986747}, {\"k\": 7, \"inertia\": 56.22094244777031}, {\"k\": 8, \"inertia\": 49.303782782757445}, {\"k\": 9, \"inertia\": 43.11455562778636}]}}, {\"mode\": \"vega-lite\"});\n",
       "</script>"
      ],
      "text/plain": [
       "alt.Chart(...)"
      ]
     },
     "execution_count": 79,
     "metadata": {},
     "output_type": "execute_result"
    }
   ],
   "source": [
    "alt.Chart(elbow).mark_line(point=True).encode(\n",
    "    x=\"k:O\",\n",
    "    y=\"inertia:Q\"\n",
    ").properties(\n",
    "    height=600,\n",
    "    width=800\n",
    ")"
   ]
  },
  {
   "cell_type": "markdown",
   "metadata": {},
   "source": [
    "__Pregunta:__ Considerando los datos (países) y el gráfico anterior, ¿Cuántos clusters escogerías?\n",
    "\n",
    "__Respuesta:__ Hay un leve cambio en 2, por lo que ese debería ser el número de clusters a utilizar"
   ]
  },
  {
   "cell_type": "code",
   "execution_count": null,
   "metadata": {},
   "outputs": [],
   "source": []
  }
 ],
 "metadata": {
  "celltoolbar": "Slideshow",
  "kernelspec": {
   "display_name": "Python 3",
   "language": "python",
   "name": "python3"
  },
  "language_info": {
   "codemirror_mode": {
    "name": "ipython",
    "version": 3
   },
   "file_extension": ".py",
   "mimetype": "text/x-python",
   "name": "python",
   "nbconvert_exporter": "python",
   "pygments_lexer": "ipython3",
   "version": "3.7.8"
  }
 },
 "nbformat": 4,
 "nbformat_minor": 4
}
